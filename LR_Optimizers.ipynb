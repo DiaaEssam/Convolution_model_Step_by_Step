{
  "cells": [
    {
      "cell_type": "markdown",
      "metadata": {
        "id": "view-in-github",
        "colab_type": "text"
      },
      "source": [
        "<a href=\"https://colab.research.google.com/github/DiaaEssam/Convolution_model_Step_by_Step/blob/main/LR_Optimizers.ipynb\" target=\"_parent\"><img src=\"https://colab.research.google.com/assets/colab-badge.svg\" alt=\"Open In Colab\"/></a>"
      ]
    },
    {
      "cell_type": "markdown",
      "metadata": {
        "id": "LyPqZRJO-Oi2"
      },
      "source": [
        "# Importing Libraries"
      ]
    },
    {
      "cell_type": "code",
      "execution_count": null,
      "metadata": {
        "colab": {
          "base_uri": "https://localhost:8080/"
        },
        "id": "tifpZDxG0U7T",
        "outputId": "36f97bc4-4aa9-44ed-8354-3b4838a0a40c"
      },
      "outputs": [
        {
          "output_type": "execute_result",
          "data": {
            "text/plain": [
              "{'divide': 'warn', 'over': 'ignore', 'under': 'ignore', 'invalid': 'warn'}"
            ]
          },
          "metadata": {},
          "execution_count": 388
        }
      ],
      "source": [
        "import numpy as np\n",
        "import pandas as pd\n",
        "import matplotlib.pyplot as plt\n",
        "from keras.datasets import mnist\n",
        "import tensorflow as tf\n",
        "from sklearn.preprocessing import StandardScaler\n",
        "tf.test.gpu_device_name()\n",
        "np.seterr(over='ignore')"
      ]
    },
    {
      "cell_type": "markdown",
      "metadata": {
        "id": "dOIsaqeP-VvG"
      },
      "source": [
        "# Loading MNIST Dataset"
      ]
    },
    {
      "cell_type": "code",
      "execution_count": null,
      "metadata": {
        "id": "GGd-IRay-Ii7"
      },
      "outputs": [],
      "source": [
        "(X_train, y_train), (X_val, y_test) = mnist.load_data()"
      ]
    },
    {
      "cell_type": "markdown",
      "metadata": {
        "id": "k-cq7oJ7-bsT"
      },
      "source": [
        "# Subsetting The Data to The Classes 0 and 1 "
      ]
    },
    {
      "cell_type": "code",
      "execution_count": null,
      "metadata": {
        "id": "V5pwtC0HbTgy"
      },
      "outputs": [],
      "source": [
        "# Storing indeces of class 0 and class 1\n",
        "idx_train_0 = np.where(y_train == 0)[0]\n",
        "idx_train_1 = np.where(y_train == 1)[0]\n",
        "idX_val_0 = np.where(y_test == 0)[0]\n",
        "idX_val_1 = np.where(y_test == 1)[0]\n",
        "\n",
        "# Concatenating the classes for train and test for each variable\n",
        "X_train = np.concatenate((X_train[idx_train_0], X_train[idx_train_1]), axis=0)\n",
        "y_train = np.concatenate((y_train[idx_train_0], y_train[idx_train_1]), axis=0)\n",
        "X_val = np.concatenate((X_val[idX_val_0], X_val[idX_val_1]), axis=0)\n",
        "y_test = np.concatenate((y_test[idX_val_0], y_test[idX_val_1]), axis=0)"
      ]
    },
    {
      "cell_type": "markdown",
      "metadata": {
        "id": "NLhxW1OG_LBC"
      },
      "source": [
        "# Visualizing some of The Data"
      ]
    },
    {
      "cell_type": "code",
      "execution_count": null,
      "metadata": {
        "colab": {
          "base_uri": "https://localhost:8080/",
          "height": 433
        },
        "id": "t4asSvtF-TKt",
        "outputId": "0ef96bd1-22b6-4d5a-cda2-24d007317efd"
      },
      "outputs": [
        {
          "output_type": "display_data",
          "data": {
            "text/plain": [
              "<Figure size 640x480 with 9 Axes>"
            ],
            "image/png": "[encoded data removed]"
          },
          "metadata": {}
        }
      ],
      "source": [
        "for i in range(9):  \n",
        "  plt.subplot(330 + 1 + i)\n",
        "  plt.imshow(X_train[i], cmap=plt.get_cmap('gray'))\n",
        "plt.show()"
      ]
    },
    {
      "cell_type": "markdown",
      "metadata": {
        "id": "RAsr_mZx-bfr"
      },
      "source": [
        "# Transforming The Dimensions"
      ]
    },
    {
      "cell_type": "code",
      "execution_count": null,
      "metadata": {
        "colab": {
          "base_uri": "https://localhost:8080/"
        },
        "id": "iSs-MKw_-c5F",
        "outputId": "d3e4c763-2fe4-427f-a9eb-8d06b179f9a6"
      },
      "outputs": [
        {
          "output_type": "stream",
          "name": "stdout",
          "text": [
            "[[0. 0. 0. ... 0. 0. 0.]\n",
            " [0. 0. 0. ... 0. 0. 0.]\n",
            " [0. 0. 0. ... 0. 0. 0.]\n",
            " ...\n",
            " [0. 0. 0. ... 0. 0. 0.]\n",
            " [0. 0. 0. ... 0. 0. 0.]\n",
            " [0. 0. 0. ... 0. 0. 0.]]\n"
          ]
        }
      ],
      "source": [
        "X_train = X_train.astype('float32')\n",
        "X_val = X_val.astype('float32')\n",
        "\n",
        "X_train=X_train.reshape(X_train.shape[0],-1)\n",
        "X_val=X_val.reshape(X_val.shape[0],-1)\n",
        "print(X_train)"
      ]
    },
    {
      "cell_type": "code",
      "execution_count": null,
      "metadata": {
        "colab": {
          "base_uri": "https://localhost:8080/"
        },
        "id": "E-AesVKU-Ms6",
        "outputId": "d88c4e0f-04d3-4c7d-b5be-1bc7f0aae80e"
      },
      "outputs": [
        {
          "output_type": "stream",
          "name": "stdout",
          "text": [
            "X_train: (12665, 784)\n",
            "Y_train: (12665,)\n",
            "X_val:  (2115, 784)\n",
            "Y_test:  (2115,)\n"
          ]
        }
      ],
      "source": [
        "print('X_train: ' + str(X_train.shape))\n",
        "print('Y_train: ' + str(y_train.shape))\n",
        "print('X_val:  '  + str(X_val.shape))\n",
        "print('Y_test:  '  + str(y_test.shape))"
      ]
    },
    {
      "cell_type": "markdown",
      "metadata": {
        "id": "vchqJ-h5_VLX"
      },
      "source": [
        "# Standardizing The Data"
      ]
    },
    {
      "cell_type": "code",
      "execution_count": null,
      "metadata": {
        "id": "34rMdf5Z8zHI"
      },
      "outputs": [],
      "source": [
        "\"\"\"\n",
        "Standardizing both the training set and test set using the mean and standard deviation of the training set,\n",
        "This is because it ensures that the test set is processed in the same way as the training set,\n",
        "and that the model's performance is evaluated on data that it has not seen before, without any information from the test set leaking into the training set.\n",
        "see the following link: https://stats.stackexchange.com/questions/202287/why-standardization-of-the-testing-set-has-to-be-performed-with-the-mean-and-sd\n",
        "\"\"\"\n",
        "def standardize(X,X_train):\n",
        "  return (X-np.mean(X_train,axis=0))/(np.std(X_train,axis=0) + 10e-16) # we need epsilon for feature (pixel) that has zero variance\n",
        "  "
      ]
    },
    {
      "cell_type": "code",
      "source": [
        "X_train=standardize(X_train,X_train)\n",
        "X_val=standardize(X_val,X_val)\n",
        "#X_val=standardize(X_val,X_train) # correct way"
      ],
      "metadata": {
        "id": "Q9JTBiyqyoRC"
      },
      "execution_count": null,
      "outputs": []
    },
    {
      "cell_type": "markdown",
      "metadata": {
        "id": "LXDQQG1__mxa"
      },
      "source": [
        "# Shuffle Function"
      ]
    },
    {
      "cell_type": "code",
      "execution_count": null,
      "metadata": {
        "id": "RRaAlafLpTtV"
      },
      "outputs": [],
      "source": [
        "def Shuffle(X,y):\n",
        "  # Storing indeces of data\n",
        "  indices = np.arange(X.shape[0])\n",
        "  # Shuffling the indeces\n",
        "  np.random.shuffle(indices)\n",
        "  # update the data and target with the new shuffled indeces\n",
        "  X = X[indices]\n",
        "  y = y[indices]\n",
        "  return X,y"
      ]
    },
    {
      "cell_type": "markdown",
      "metadata": {
        "id": "RMY6fej8AZc9"
      },
      "source": [
        "# Accuracy Function"
      ]
    },
    {
      "cell_type": "code",
      "execution_count": null,
      "metadata": {
        "id": "9lvpVJHlAex9"
      },
      "outputs": [],
      "source": [
        "def Accuracy(y_pred,y_test):\n",
        "\n",
        "    Acc=(np.sum(y_pred==y_test)/len(y_test)) * 100\n",
        "    return round(Acc,1)"
      ]
    },
    {
      "cell_type": "markdown",
      "metadata": {
        "id": "basOFCu1BzrN"
      },
      "source": [
        "# Error Function"
      ]
    },
    {
      "cell_type": "code",
      "execution_count": null,
      "metadata": {
        "id": "L1BMRDhxB3Gx"
      },
      "outputs": [],
      "source": [
        "def Error(y_pred,y_test,W,Lambda,reg):\n",
        "  Cost = (np.sum((y_test * np.log(y_pred+1e-10) + (1-y_test) * np.log(1-y_pred+1e-10))) * -1/len(y_test))\n",
        "  return  Cost + ((Lambda * np.sum(np.abs(W)))/ (2 * len(y_test))) if reg else Cost"
      ]
    },
    {
      "cell_type": "markdown",
      "metadata": {
        "id": "E9TMd5LyEkwd"
      },
      "source": [
        "# Sigmoid Function"
      ]
    },
    {
      "cell_type": "code",
      "execution_count": null,
      "metadata": {
        "id": "MGDhlTs8Enpr"
      },
      "outputs": [],
      "source": [
        "def sigmoid(z):\n",
        "    return 1.0/(1.0+np.exp(-z))"
      ]
    },
    {
      "cell_type": "markdown",
      "source": [
        "# Model"
      ],
      "metadata": {
        "id": "DMFF0mtdgMGA"
      }
    },
    {
      "cell_type": "code",
      "source": [
        "def model(W,b,X):\n",
        "  return np.dot(W,X.T) + b"
      ],
      "metadata": {
        "id": "WDyTU1vjgQOO"
      },
      "execution_count": null,
      "outputs": []
    },
    {
      "cell_type": "markdown",
      "source": [
        "# Net input and Error"
      ],
      "metadata": {
        "id": "MtUAwaJyoiGI"
      }
    },
    {
      "cell_type": "code",
      "source": [
        "def Net_and_Error(W,b,X,y,Lambda,reg):\n",
        "  yhat= model(W,b,X)\n",
        "  Z=sigmoid(yhat)\n",
        "  error= Error(Z,y,W,Lambda,reg)\n",
        "  return Z,error"
      ],
      "metadata": {
        "id": "RBWmVqqBon-L"
      },
      "execution_count": null,
      "outputs": []
    },
    {
      "cell_type": "markdown",
      "source": [
        "# Gradient"
      ],
      "metadata": {
        "id": "CRMirFJRgnqV"
      }
    },
    {
      "cell_type": "code",
      "source": [
        "def Gradient(Z,y,X):\n",
        "  return np.mean((Z-y) * X.T),np.mean(Z-y)"
      ],
      "metadata": {
        "id": "-ovPTFyhgwkk"
      },
      "execution_count": null,
      "outputs": []
    },
    {
      "cell_type": "markdown",
      "source": [
        "#Get W_b Function"
      ],
      "metadata": {
        "id": "7jQHPkRd0bmy"
      }
    },
    {
      "cell_type": "code",
      "source": [
        "def batch_method(X,y,W,b,error,Lambda,eta,reg):\n",
        "        Z,error=Net_and_Error(W,b,X,y,Lambda,reg)\n",
        "\n",
        "        \"\"\"\n",
        "        as the derivative of |X| is |X|/X is not defined at X=0 then we could use a trick which is the sign() function in numpy,\n",
        "        and this trick is called the subdifferential \n",
        "        sign(x) = 1 if x > 0\n",
        "                = 0 if x = 0\n",
        "                = -1 if x < 0\n",
        "        \"\"\"\n",
        "        dw,db=Gradient(Z,y,X)\n",
        "        W= W - eta * (dw) + ((Lambda / ( 2 * len(y) )) * np.sign(W)) if reg else W -( eta * dw)\n",
        "        b= b- eta * db\n",
        "        return W,b,error"
      ],
      "metadata": {
        "id": "OAvuqf9M0nU8"
      },
      "execution_count": null,
      "outputs": []
    },
    {
      "cell_type": "markdown",
      "source": [
        "# Initializing RMS parameters"
      ],
      "metadata": {
        "id": "qKhHDa0rjXjW"
      }
    },
    {
      "cell_type": "code",
      "source": [
        "def Initialize_RMS(beta,epsilon,Vdw,vdb):\n",
        "  return beta,epsilon,Vdw,vdb"
      ],
      "metadata": {
        "id": "vpXsrTcSjcua"
      },
      "execution_count": null,
      "outputs": []
    },
    {
      "cell_type": "markdown",
      "source": [
        "#Initializing Adam parameters"
      ],
      "metadata": {
        "id": "UdysXYG8NnHt"
      }
    },
    {
      "cell_type": "code",
      "source": [
        "def Initialize_Adam(beta1,beta2,epsilon,Vdw,Sdw,Vdb,Sdb):\n",
        "  return beta1,beta2,epsilon,Vdw,Sdw,Vdb,Sdb"
      ],
      "metadata": {
        "id": "Apacv4mLNtJh"
      },
      "execution_count": null,
      "outputs": []
    },
    {
      "cell_type": "markdown",
      "source": [
        "# RMS Function"
      ],
      "metadata": {
        "id": "ovuMF5etexNi"
      }
    },
    {
      "cell_type": "code",
      "source": [
        "def RMS(beta,epsilon,t,W,b,dw,db,VdW,Vdb,eta):\n",
        "  \"\"\"\n",
        "  -The RMSProp (Root Mean Square Propagation)\n",
        "  -The RMSProp optimizer works by maintaining a moving average of the squared gradient for each weight\n",
        "  -The RMSProp optimizer uses a decay rate/beta hyperparameter to control the weighting of past and current gradients.\n",
        "  -This decay rate determines how much weight is given to the most recent gradient compared to the historical gradients.\n",
        "  -A larger decay rate means that the moving average will be more heavily influenced by the historical gradients,\n",
        "  -while a smaller decay rate means that the moving average will be more influenced by the most recent gradient.  \n",
        "  \"\"\"\n",
        "\n",
        "  \"\"\"\n",
        "  -Vdw is the moving average of the squared gradients of the weights, and Vdb is the moving average of the squared gradients of the biases. \n",
        "  -These moving averages are used to adjust the learning rate during training, with the goal of improving the convergence of the optimization algorithm.\n",
        "  \"\"\"\n",
        "\n",
        "  \"\"\"\n",
        "  -The letter \"V\" in Vdw and Vdb stands for \"variance\". In the context of the RMSProp optimizer, Vdw and Vdb represent the variance of the gradients of the weights and biases, respectively.\n",
        "  -The use of variance in the RMSProp optimizer is based on the intuition that the variance of the gradients can provide information about the scale of the gradients.\n",
        "  -If the variance of the gradients is high, it suggests that the gradients are large and the learning rate should be reduced to prevent overshooting the minimum. Conversely, \n",
        "  -if the variance of the gradients is low, it suggests that the gradients are small and the learning rate can be increased to speed up convergence.\n",
        "  \"\"\"\n",
        "  VdW = ((beta * VdW) + ((1 - beta) * (dw**2))) / (1 - beta**t + epsilon)\n",
        "  Vdb = ((beta * Vdb) + ((1 - beta) * (db**2))) / (1 - beta**t + epsilon)\n",
        "  W = W - (eta * (dw/(np.sqrt(VdW) + epsilon)))\n",
        "  b = b - (eta * (db/np.sqrt(Vdb) + epsilon))\n",
        "  return W,b\n"
      ],
      "metadata": {
        "id": "NP8-yozyezq3"
      },
      "execution_count": null,
      "outputs": []
    },
    {
      "cell_type": "markdown",
      "source": [
        "#Adam Functon"
      ],
      "metadata": {
        "id": "ZDu8o03K_IIg"
      }
    },
    {
      "cell_type": "code",
      "source": [
        "def Adam(beta1,beta2,t,epsilon,W,b,dw,db,VdW,SdW,Vdb,Sdb,eta):\n",
        "  \"\"\"\n",
        "  -The Adam (Adaptive Moment Estimation) optimizer is a popular optimization algorithm used in deep learning.\n",
        "  -It is an adaptive learning rate optimization algorithm that combines the benefits of two other optimization algorithms, RMSProp and momentum.\n",
        "  \"\"\"\n",
        "\n",
        "  \"\"\"\n",
        "  -The Adam optimizer works by maintaining a moving average of the gradients and the squared gradients of the weights\n",
        "  -VdW = beta1 * VdW + (1 - beta1) * dL/dw\n",
        "  -SdW = beta2 * SdW + (1 - beta2) * (dL/dw)^2\n",
        "  -VdW_corrected = VdW_corrected / (1 - beta1^t)\n",
        "  -SdW_corrected = SdW_corrected / (1 - beta2^t)\n",
        "  -w = w - alpha * VdW_corrected / (sqrt(SdW_corrected) + epsilon)\n",
        "  -the same for b\n",
        "  \"\"\"\n",
        "\n",
        "  \"\"\"\n",
        "  -beta1 and beta2 are hyperparameters\n",
        "  Set β1=0, means that ADAM behaves exactly as RMSprop optimizer\n",
        "  Set β2=0, means that ADAM behaves exactly as Momentum optimizer\n",
        "  \"\"\"\n",
        "  VdW= (beta1 * VdW) + ((1 - beta1) * dw)    # Momentum\n",
        "  Vdb= (beta1 * Vdb) + ((1 - beta1) * db)    # Momentum\n",
        "  SdW= (beta2 * SdW) + ((1 - beta2) * dw**2) # RMS, represents variance that will be square rooted soon \n",
        "  Sdb= (beta2 * Sdb) + ((1 - beta2) * db**2) # RMS, represents variance that will be square rooted soon \n",
        "  \"\"\"\n",
        "  -The bias correction step helps to ensure that the moving averages are unbiased estimates of the true first and second moments of the gradients.\n",
        "  -Without the bias correction step, the moving averages would be biased towards zero, which could lead to slower convergence or suboptimal performance.\n",
        "  \"\"\"\n",
        "  VdW_corrected= VdW/(1 - beta1**t + epsilon) # bias correction\n",
        "  Vdb_corrected= Vdb/(1 - beta1**t + epsilon) # bias correction\n",
        "  SdW_corrected= SdW/(1 - beta2**t + epsilon) # bias correction\n",
        "  Sdb_corrected= Sdb/(1 - beta2**t + epsilon) # bias correction\n",
        "\n",
        "  W = W - eta * (VdW_corrected/np.sqrt(SdW_corrected + epsilon)) # SdW_corrected is standard deviation here\n",
        "  b = b - eta * (Vdb_corrected/np.sqrt(Sdb_corrected + epsilon)) # SdW_corrected is standard deviation here\n",
        "  return W,b"
      ],
      "metadata": {
        "id": "PUmlXhwF_LzP"
      },
      "execution_count": null,
      "outputs": []
    },
    {
      "cell_type": "markdown",
      "metadata": {
        "id": "-LE8W_94DAit"
      },
      "source": [
        "# Logistic_Regression_Model"
      ]
    },
    {
      "cell_type": "code",
      "execution_count": null,
      "metadata": {
        "id": "U6-8_lTLDXzD"
      },
      "outputs": [],
      "source": [
        "def Logistic_Regression(X,y,epochs,Lambda,eta,reg,batch,batch_size,rms,adam):\n",
        "    W=np.random.randn(X.shape[1])\n",
        "    b=np.random.randn()\n",
        "    error=0\n",
        "\n",
        "    for j in range(epochs):\n",
        "        num_batches=int(X.shape[0]/batch_size)\n",
        "        X,y=Shuffle(X,y)\n",
        "        for i in range(num_batches):\n",
        "          if batch:  \n",
        "              if i != num_batches-1:        \n",
        "                  W,b,error=batch_method(X[i*batch_size:batch_size*(i+1)],y[i*batch_size:batch_size*(i+1)],W,b,error,Lambda,eta,reg)\n",
        "              else:\n",
        "                  W,b,error=batch_method(X[i*batch_size:batch_size*(i+1) + X.shape[0] % batch_size],y[i*batch_size:batch_size*(i+1) + X.shape[0] % batch_size],W,b,error,Lambda,eta,reg)\n",
        "          if rms:\n",
        "              beta,epsilon,Vdw,Vdb = Initialize_RMS(0.9,10e-16,np.zeros(W.shape),0)\n",
        "              Z,error=Net_and_Error(W,b,X[i*batch_size:batch_size*(i+1)],y[i*batch_size:batch_size*(i+1)],Lambda,reg) if i!=num_batches-1 else Net_and_Error(W,b,X[i*batch_size:batch_size*(i+1) + X.shape[0] % batch_size],y[i*batch_size:batch_size*(i+1) + X.shape[0] % batch_size],Lambda,reg)\n",
        "              dw,db=Gradient(Z,y[i*batch_size:batch_size*(i+1)],X[i*batch_size:batch_size*(i+1)]) if i!=num_batches-1 else Gradient(Z,y[i*batch_size:batch_size*(i+1) + X.shape[0] % batch_size],X[i*batch_size:batch_size*(i+1) + X.shape[0] % batch_size])\n",
        "              W,b=RMS(beta,epsilon,j,W,b,dw,db,Vdw,Vdb,eta)\n",
        "\n",
        "          if adam:\n",
        "              beta1,beta2,epsilon,VdW,SdW,Vdb,Sdb = Initialize_Adam(0.9,0.999,10e-16,np.zeros(W.shape),np.zeros(W.shape),0,0)\n",
        "              Z,error=Net_and_Error(W,b,X[i*batch_size:batch_size*(i+1)],y[i*batch_size:batch_size*(i+1)],Lambda,reg) if i!=num_batches-1 else Net_and_Error(W,b,X[i*batch_size:batch_size*(i+1) + X.shape[0] % batch_size],y[i*batch_size:batch_size*(i+1) + X.shape[0] % batch_size],Lambda,reg)\n",
        "              dw,db=Gradient(Z,y[i*batch_size:batch_size*(i+1)],X[i*batch_size:batch_size*(i+1)]) if i!=num_batches-1 else Gradient(Z,y[i*batch_size:batch_size*(i+1) + X.shape[0] % batch_size],X[i*batch_size:batch_size*(i+1) + X.shape[0] % batch_size])\n",
        "              W,b=Adam(beta1,beta2,j,epsilon,W,b,dw,db,VdW,SdW,Vdb,Sdb,eta)\n",
        "        \n",
        "\n",
        "    print(\"Training_Error: \",error)\n",
        "    return W,b"
      ]
    },
    {
      "cell_type": "markdown",
      "metadata": {
        "id": "NI-lyVosGeBJ"
      },
      "source": [
        "# Test_model Function"
      ]
    },
    {
      "cell_type": "code",
      "execution_count": null,
      "metadata": {
        "id": "hcGYqrTRGit5"
      },
      "outputs": [],
      "source": [
        "# function to test on each model\n",
        "def test_model(W,b,X_val,y_test):\n",
        "    y_pred= np.dot(W,X_val.T) + b\n",
        "    Z=sigmoid(y_pred)\n",
        "    Z[Z>0.5]= 1\n",
        "    Z[Z<0.5]= 0\n",
        "    return Accuracy(Z.astype(np.int32),y_test)"
      ]
    },
    {
      "cell_type": "code",
      "execution_count": null,
      "metadata": {
        "id": "VU_kFuFBOv9t"
      },
      "outputs": [],
      "source": [
        "def Logistic_Regression_GD(X_train,y_train,X_val,y_test,epochs,Lambda=0.0,eta=0.001,reg=False,batch=False,batch_size=X_train.shape[0],rms=False,adam=False):\n",
        "  W,b=Logistic_Regression(X_train,y_train,epochs,Lambda,eta,reg,batch,batch_size,rms,adam)\n",
        "  Acc=test_model(W,b,X_val,y_test)\n",
        "  return Acc\n"
      ]
    },
    {
      "cell_type": "markdown",
      "source": [
        "##Note that we will fix number of epochs to be 25 and learning rate value to be 0.001 for all cases discussed in this notebook, so we can compare fairly as possible as we could."
      ],
      "metadata": {
        "id": "uZhNRQftwEZ1"
      }
    },
    {
      "cell_type": "markdown",
      "source": [
        "# Training & Testing GD with L1 Regularization/Lasso"
      ],
      "metadata": {
        "id": "8CeT1S0rsJ3k"
      }
    },
    {
      "cell_type": "code",
      "source": [
        "Accs={Lambda:Logistic_Regression_GD(X_train,y_train,X_val,y_test,25,Lambda,0.001,reg=True,batch=True) for Lambda in [0.01,0.1]}\n",
        "print(\"Testing_Accuracies: \",Accs)"
      ],
      "metadata": {
        "id": "Q2Cx_LgI9AZ0",
        "colab": {
          "base_uri": "https://localhost:8080/"
        },
        "outputId": "e761555e-2555-4486-f4ef-eb10bc6d97f5"
      },
      "execution_count": null,
      "outputs": [
        {
          "output_type": "stream",
          "name": "stdout",
          "text": [
            "Training_Error:  8.180588840313005\n",
            "Training_Error:  2.5856888324730427\n",
            "Testing_Accuracies:  {0.01: 29.1, 0.1: 78.2}\n"
          ]
        }
      ]
    },
    {
      "cell_type": "markdown",
      "source": [
        "In GD with Lasso:\n",
        "\n",
        "It deals with high-dimensional data, as it can help in reducing the number of features by shrinking the coefficients of less important features to zero.\n",
        "\n",
        "Is we can see, using 0.01 lambda gives us 29.1 accuracy and by increasing lambda to be 0.1 the accuracy goes up more than the one using 0.01 lambda.\n",
        "\n",
        "We could conclude from that the more we increase lambda the more accuracy we get.\n",
        "\n",
        "However using high lambda could affect the model badly as it will neglect many features that may be important thus making the model so simple that may not fit the training data well which makes the model do poorly on the testting data"
      ],
      "metadata": {
        "id": "7kWt4YWCvaKP"
      }
    },
    {
      "cell_type": "markdown",
      "source": [
        "######For good accuracies try epochs=500,eta=0.1"
      ],
      "metadata": {
        "id": "ZQPRikavuEAc"
      }
    },
    {
      "cell_type": "code",
      "source": [
        "Accs={Lambda:Logistic_Regression_GD(X_train,y_train,X_val,y_test,500,Lambda,0.1,reg=True,batch=True) for Lambda in [0.01,0.1]}\n",
        "print(\"Testing_Accuracies: \",Accs)"
      ],
      "metadata": {
        "colab": {
          "base_uri": "https://localhost:8080/"
        },
        "id": "bIkCm6mmuI_E",
        "outputId": "bb1af7e4-0b8a-4bec-a1e3-19e7e11c6b5d"
      },
      "execution_count": null,
      "outputs": [
        {
          "output_type": "stream",
          "name": "stdout",
          "text": [
            "Training_Error:  2.251709707724267\n",
            "Training_Error:  0.9791902190842146\n",
            "Testing_Accuracies:  {0.01: 83.7, 0.1: 91.3}\n"
          ]
        }
      ]
    },
    {
      "cell_type": "markdown",
      "source": [
        "# Training & Testing Mini Batch GD"
      ],
      "metadata": {
        "id": "dhe4lOA4sefg"
      }
    },
    {
      "cell_type": "code",
      "source": [
        "Accs={batch_size:Logistic_Regression_GD(X_train,y_train,X_val,y_test,25,eta=0.001,batch_size=batch_size,batch=True) for batch_size in [32,64,128,256]} # For good accuracies try epochs=500,eta=0.1\n",
        "print(\"Testing_Accuracies: \",Accs)"
      ],
      "metadata": {
        "id": "O4Ax5GVyshC3",
        "colab": {
          "base_uri": "https://localhost:8080/"
        },
        "outputId": "8413e234-3fbf-4c26-cbe7-ba0f64961d34"
      },
      "execution_count": null,
      "outputs": [
        {
          "output_type": "stream",
          "name": "stdout",
          "text": [
            "Training_Error:  1.77070426260131\n",
            "Training_Error:  2.3767884872176066\n",
            "Training_Error:  2.7881676072267823\n",
            "Training_Error:  1.7562613967234644\n",
            "Testing_Accuracies:  {32: 91.8, 64: 79.3, 128: 75.8, 256: 81.8}\n"
          ]
        }
      ]
    },
    {
      "cell_type": "markdown",
      "source": [
        "In Mini-Batch GD:\n",
        "\n",
        "It is faster than GD as it updates the model parameters more frequently. It can also help in avoiding local minima by introducing more randomness into the optimization process.\n",
        "\n",
        "It has more variability in steps towards the global minimum than GD which could be the reason why it avoids local minimum that the previous models using GD with Lasso could not avoid thus gave lower accuracies than the accuracies we got using MIni batch GD.\n",
        "\n",
        "As we can see, we used values for batch size such as 32,64,128,256, the reason we used those because they are powers of 2. Using powers of 2 can be beneficial for hardware optimization, as many computer architectures have optimized memory access patterns for powers of 2. This can lead to faster computation times and better memory utilization.\n",
        "\n",
        "Also we can see values of 32 and 256 batch sizes give the highest accuracies.\n"
      ],
      "metadata": {
        "id": "6JNKMl66yWB8"
      }
    },
    {
      "cell_type": "markdown",
      "source": [
        "######For good accuracies try epochs=500,eta=0.1"
      ],
      "metadata": {
        "id": "sHl0ElFouTWc"
      }
    },
    {
      "cell_type": "code",
      "source": [
        "Accs={batch_size:Logistic_Regression_GD(X_train,y_train,X_val,y_test,500,eta=0.1,batch_size=batch_size,batch=True) for batch_size in [32,64,128,256]} # For good accuracies try epochs=500,eta=0.1\n",
        "print(\"Testing_Accuracies: \",Accs)"
      ],
      "metadata": {
        "colab": {
          "base_uri": "https://localhost:8080/"
        },
        "id": "z_gJdxYauUYD",
        "outputId": "abf1e657-0a94-4aa5-da24-2d79a8a6e3a7"
      },
      "execution_count": null,
      "outputs": [
        {
          "output_type": "stream",
          "name": "stdout",
          "text": [
            "Training_Error:  1.479069124339658\n",
            "Training_Error:  1.966076466784516\n",
            "Training_Error:  1.7510401476168862\n",
            "Training_Error:  1.4688943792078875\n",
            "Testing_Accuracies:  {32: 88.8, 64: 86.7, 128: 87.2, 256: 87.1}\n"
          ]
        }
      ]
    },
    {
      "cell_type": "markdown",
      "source": [
        "#Training & Testing Using RMS prop"
      ],
      "metadata": {
        "id": "SLWerwuvUvm-"
      }
    },
    {
      "cell_type": "code",
      "source": [
        "Accs=Logistic_Regression_GD(X_train,y_train,X_val,y_test,25,eta=0.001,batch_size=64,rms=True) \n",
        "print(\"Testing_Accuracies: \",Accs)"
      ],
      "metadata": {
        "id": "uotNcHZuValx",
        "colab": {
          "base_uri": "https://localhost:8080/"
        },
        "outputId": "33ee171d-7cfa-47ce-fb83-97d5cdfb24cf"
      },
      "execution_count": null,
      "outputs": [
        {
          "output_type": "stream",
          "name": "stdout",
          "text": [
            "Training_Error:  1.8966207035133407\n",
            "Testing_Accuracies:  85.3\n"
          ]
        }
      ]
    },
    {
      "cell_type": "markdown",
      "source": [
        "In RMSProp:\n",
        "\n",
        "Note that we used Decay Rate/Beta of 0.9.\n",
        "\n",
        "As we can we see, we got higher accuracy using RMSProp.\n",
        "\n",
        "It can help in avoiding the vanishing or exploding gradient problem by adjusting the learning rate based on the magnitude of the gradients.\n",
        "\n",
        "So we could conclude that it makes the steps taken to reach to the global minimum more smoothly than Mini batch GD by adjusting the learing rate depending on 90% of historical gradients and 10% of current gradient which in fact decreases the variability of the movements towards the global minimum thus solving the probelm of high variability in Mini batch GD."
      ],
      "metadata": {
        "id": "GCXkWAMJofma"
      }
    },
    {
      "cell_type": "markdown",
      "source": [
        "#Training & Testing Using Adam"
      ],
      "metadata": {
        "id": "RJwLyCqX3sf4"
      }
    },
    {
      "cell_type": "code",
      "source": [
        "Accs=Logistic_Regression_GD(X_train,y_train,X_val,y_test,25,eta=0.001,batch_size=64,adam=True)\n",
        "print(\"Testing_Accuracies: \",Accs)"
      ],
      "metadata": {
        "colab": {
          "base_uri": "https://localhost:8080/"
        },
        "id": "HA5U0HXEz1R8",
        "outputId": "f538ced4-c4ec-4062-e1d5-2c067bdfe6e3"
      },
      "execution_count": null,
      "outputs": [
        {
          "output_type": "stream",
          "name": "stdout",
          "text": [
            "Training_Error:  1.3320740206461432\n",
            "Testing_Accuracies:  93.0\n"
          ]
        }
      ]
    },
    {
      "cell_type": "markdown",
      "source": [
        "In Adam:\n",
        "\n",
        "As we can see we got higher accuracy using Adam than Using RMSProp.\n",
        "\n",
        "It uses the mentioned properties of RMSProp,but it adds the idea of momentum.\n",
        "\n",
        "Using momentum allows it to use a running average of the previous updates, it can help in avoiding the problem of getting stuck in local minima and can accelerate the convergence of the optimization process.\n",
        "\n",
        "So it has the the advantage of Mini batch GD and the advantage of RMSProp.\n",
        "\n",
        "Also it applys Bias Correction, This can help in improving the accuracy of the optimization process and can lead to better performance.\n",
        "\n",
        "\n",
        "\n",
        "\n"
      ],
      "metadata": {
        "id": "9gsdHj71qMaT"
      }
    }
  ],
  "metadata": {
    "accelerator": "GPU",
    "colab": {
      "provenance": [],
      "authorship_tag": "ABX9TyNXFDBqpuxnSbUxjGrGhvj3",
      "include_colab_link": true
    },
    "gpuClass": "standard",
    "kernelspec": {
      "display_name": "Python 3",
      "name": "python3"
    },
    "language_info": {
      "name": "python"
    }
  },
  "nbformat": 4,
  "nbformat_minor": 0
}