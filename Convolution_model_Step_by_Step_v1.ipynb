{
  "cells": [
    {
      "cell_type": "markdown",
      "metadata": {
        "id": "view-in-github",
        "colab_type": "text"
      },
      "source": [
        "<a href=\"https://colab.research.google.com/github/DiaaEssam/Convolution_model_Step_by_Step/blob/main/Convolution_model_Step_by_Step_v1.ipynb\" target=\"_parent\"><img src=\"https://colab.research.google.com/assets/colab-badge.svg\" alt=\"Open In Colab\"/></a>"
      ]
    },
    {
      "cell_type": "markdown",
      "source": [
        "# Convolutional Neural Networks: Step by Step"
      ],
      "metadata": {
        "id": "BVr6wfvjo0Hs"
      }
    },
    {
      "cell_type": "markdown",
      "metadata": {
        "id": "_jMNBtEenK3g"
      },
      "source": [
        "<a name='1'></a>\n",
        "## 1 - Packages\n",
        "\n"
      ]
    },
    {
      "cell_type": "code",
      "execution_count": 53,
      "metadata": {
        "colab": {
          "base_uri": "https://localhost:8080/"
        },
        "id": "BNHE3IdbnK3h",
        "outputId": "fa067122-18bd-475a-ddd8-c135446e0031"
      },
      "outputs": [
        {
          "output_type": "stream",
          "name": "stdout",
          "text": [
            "The autoreload extension is already loaded. To reload it, use:\n",
            "  %reload_ext autoreload\n"
          ]
        }
      ],
      "source": [
        "import numpy as np\n",
        "import h5py\n",
        "import matplotlib.pyplot as plt\n",
        "\n",
        "%matplotlib inline\n",
        "plt.rcParams['figure.figsize'] = (5.0, 4.0) # set default size of plots\n",
        "plt.rcParams['image.interpolation'] = 'nearest'\n",
        "plt.rcParams['image.cmap'] = 'gray'\n",
        "\n",
        "%load_ext autoreload\n",
        "%autoreload 2\n",
        "\n",
        "np.random.seed(1)"
      ]
    },
    {
      "cell_type": "code",
      "execution_count": 54,
      "metadata": {
        "deletable": false,
        "nbgrader": {
          "cell_type": "code",
          "checksum": "a14748505131e4100f550b8afcfb2d33",
          "grade": false,
          "grade_id": "cell-3096786c4bcad84a",
          "locked": false,
          "schema_version": 3,
          "solution": true,
          "task": false
        },
        "id": "mbtlU9EInK3k"
      },
      "outputs": [],
      "source": [
        "def zero_pad(X, pad):\n",
        "    \"\"\"\n",
        "    Pad with zeros all images of the dataset X. The padding is applied to the height and width of an image, \n",
        "    as illustrated in Figure 1.\n",
        "    \n",
        "    Argument:\n",
        "    X -- python numpy array of shape (m, n_H, n_W, n_C) representing a batch of m images\n",
        "    pad -- integer, amount of padding around each image on vertical and horizontal dimensions\n",
        "    \n",
        "    Returns:\n",
        "    X_pad -- padded image of shape (m, n_H + 2 * pad, n_W + 2 * pad, n_C)\n",
        "    \"\"\"\n",
        "    \n",
        "   \n",
        "    X_pad=np.pad(X,((0,0),(pad,pad),(pad,pad),(0,0)),mode='constant', constant_values = (0,0))\n",
        "    \n",
        "    \n",
        "    return X_pad"
      ]
    },
    {
      "cell_type": "code",
      "execution_count": 55,
      "metadata": {
        "deletable": false,
        "editable": false,
        "nbgrader": {
          "cell_type": "code",
          "checksum": "77b102453547ea1396bef12df34e11f8",
          "grade": true,
          "grade_id": "cell-65f1ed75ba39bc0a",
          "locked": true,
          "points": 10,
          "schema_version": 3,
          "solution": false,
          "task": false
        },
        "colab": {
          "base_uri": "https://localhost:8080/",
          "height": 521
        },
        "id": "eF-cUzF8nK3k",
        "outputId": "7ddeb63c-a353-4d98-a4a9-59cf7401a993"
      },
      "outputs": [
        {
          "output_type": "stream",
          "name": "stdout",
          "text": [
            "x.shape =\n",
            " (4, 3, 3, 2)\n",
            "x_pad.shape =\n",
            " (4, 9, 9, 2)\n",
            "x[1,1] =\n",
            " [[ 0.90085595 -0.68372786]\n",
            " [-0.12289023 -0.93576943]\n",
            " [-0.26788808  0.53035547]]\n",
            "x_pad[1,1] =\n",
            " [[0. 0.]\n",
            " [0. 0.]\n",
            " [0. 0.]\n",
            " [0. 0.]\n",
            " [0. 0.]\n",
            " [0. 0.]\n",
            " [0. 0.]\n",
            " [0. 0.]\n",
            " [0. 0.]]\n"
          ]
        },
        {
          "output_type": "execute_result",
          "data": {
            "text/plain": [
              "<matplotlib.image.AxesImage at 0x7fc6d6ea4e20>"
            ]
          },
          "metadata": {},
          "execution_count": 55
        },
        {
          "output_type": "display_data",
          "data": {
            "text/plain": [
              "<Figure size 360x288 with 2 Axes>"
            ],
            "image/png": "[encoded data removed]"
          },
          "metadata": {
            "needs_background": "light"
          }
        }
      ],
      "source": [
        "np.random.seed(1)\n",
        "x = np.random.randn(4, 3, 3, 2)\n",
        "x_pad = zero_pad(x, 3)\n",
        "print (\"x.shape =\\n\", x.shape)\n",
        "print (\"x_pad.shape =\\n\", x_pad.shape)\n",
        "print (\"x[1,1] =\\n\", x[1, 1])\n",
        "print (\"x_pad[1,1] =\\n\", x_pad[1, 1])\n",
        "\n",
        "fig, axarr = plt.subplots(1, 2)\n",
        "axarr[0].set_title('x')\n",
        "axarr[0].imshow(x[0, :, :, 0])\n",
        "axarr[1].set_title('x_pad')\n",
        "axarr[1].imshow(x_pad[0, :, :, 0])"
      ]
    },
    {
      "cell_type": "code",
      "execution_count": 56,
      "metadata": {
        "deletable": false,
        "nbgrader": {
          "cell_type": "code",
          "checksum": "9ef959e74c801cce52d46fb16fb0ba0d",
          "grade": false,
          "grade_id": "cell-bd1b8f799894d4e0",
          "locked": false,
          "schema_version": 3,
          "solution": true,
          "task": false
        },
        "id": "QQsekeRCnK3n"
      },
      "outputs": [],
      "source": [
        "# GRADED FUNCTION: conv_single_step\n",
        "\n",
        "def conv_single_step(a_slice_prev, W, b):\n",
        "    \"\"\"\n",
        "    Apply one filter defined by parameters W on a single slice (a_slice_prev) of the output activation \n",
        "    of the previous layer.\n",
        "    \n",
        "    Arguments:\n",
        "    a_slice_prev -- slice of input data of shape (f, f, n_C_prev)\n",
        "    W -- Weight parameters contained in a window - matrix of shape (f, f, n_C_prev)\n",
        "    b -- Bias parameters contained in a window - matrix of shape (1, 1, 1)\n",
        "    \n",
        "    Returns:\n",
        "    Z -- a scalar value, the result of convolving the sliding window (W, b) on a slice x of the input data\n",
        "    \"\"\"\n",
        "\n",
        "    s=a_slice_prev * W\n",
        "    Z=np.sum(s)\n",
        "    Z+=float(b)\n",
        "    return Z"
      ]
    },
    {
      "cell_type": "code",
      "execution_count": 57,
      "metadata": {
        "deletable": false,
        "editable": false,
        "nbgrader": {
          "cell_type": "code",
          "checksum": "7e4306fe13522c163e4eb63e7682b7bc",
          "grade": true,
          "grade_id": "cell-a77e63b4119ac3b9",
          "locked": true,
          "points": 10,
          "schema_version": 3,
          "solution": false,
          "task": false
        },
        "colab": {
          "base_uri": "https://localhost:8080/"
        },
        "id": "lUEurY4-nK3n",
        "outputId": "8ba6dc9c-a471-4c03-eed6-16b9dd18c896"
      },
      "outputs": [
        {
          "output_type": "stream",
          "name": "stdout",
          "text": [
            "Z = -6.999089450680221\n"
          ]
        }
      ],
      "source": [
        "np.random.seed(1)\n",
        "a_slice_prev = np.random.randn(4, 4, 3)\n",
        "W = np.random.randn(4, 4, 3)\n",
        "b = np.random.randn(1, 1, 1)\n",
        "\n",
        "Z = conv_single_step(a_slice_prev, W, b)\n",
        "print(\"Z =\", Z)\n",
        "\n",
        "assert (type(Z) == np.float64), \"You must cast the output to numpy float 64\"\n",
        "assert np.isclose(Z, -6.999089450680221), \"Wrong value\""
      ]
    },
    {
      "cell_type": "code",
      "execution_count": 58,
      "metadata": {
        "deletable": false,
        "nbgrader": {
          "cell_type": "code",
          "checksum": "812d5c174c04b75b9edaf9b77ce3da72",
          "grade": false,
          "grade_id": "cell-00b35b01091c3cdc",
          "locked": false,
          "schema_version": 3,
          "solution": true,
          "task": false
        },
        "id": "QwKbeSxRnK3p"
      },
      "outputs": [],
      "source": [
        "# GRADED FUNCTION: conv_forward\n",
        "\n",
        "def conv_forward(A_prev, W, b, hparameters):\n",
        "    \"\"\"\n",
        "    Implements the forward propagation for a convolution function\n",
        "    \n",
        "    Arguments:\n",
        "    A_prev -- output activations of the previous layer, \n",
        "        numpy array of shape (m, n_H_prev, n_W_prev, n_C_prev)\n",
        "    W -- Weights, numpy array of shape (f, f, n_C_prev, n_C)\n",
        "    b -- Biases, numpy array of shape (1, 1, 1, n_C)\n",
        "    hparameters -- python dictionary containing \"stride\" and \"pad\"\n",
        "        \n",
        "    Returns:\n",
        "    Z -- conv output, numpy array of shape (m, n_H, n_W, n_C)\n",
        "    cache -- cache of values needed for the conv_backward() function\n",
        "    \"\"\"\n",
        "  \n",
        "    (m, n_H_prev, n_W_prev, n_C_prev) = A_prev.shape\n",
        "    (f, f, n_C_prev, n_C) = W.shape\n",
        "    stride=hparameters['stride']\n",
        "    pad=hparameters['pad']\n",
        "    n_H = int(((n_H_prev + (2 * pad) - f) / stride) + 1)\n",
        "    n_W = int(((n_W_prev + (2 * pad) - f) / stride) + 1)\n",
        "    Z = np.zeros((m,n_H,n_W,n_C))\n",
        "    A_prev_pad=zero_pad(A_prev, pad)\n",
        "    \n",
        "    for i in range(m):\n",
        "        a_prev_pad=A_prev_pad[i]\n",
        "        print(a_prev_pad.shape)\n",
        "        for h in range(n_H):\n",
        "            vert_start = h * stride\n",
        "            vert_end = f + vert_start\n",
        "            for w in range(n_W):\n",
        "                horiz_start = w * stride\n",
        "                horiz_end = f + horiz_start\n",
        "                for c in range(n_C):\n",
        "                    a_slice_prev = a_prev_pad[vert_start:vert_end,horiz_start:horiz_end,:]\n",
        "                    weights = W[:,:,:,c]\n",
        "                    biases= b[:,:,:,c]\n",
        "                    Z[i, h, w, c] = conv_single_step(a_slice_prev, weights, biases)\n",
        "    \n",
        "    # Save information in \"cache\" for the backprop\n",
        "    cache = (A_prev, W, b, hparameters)\n",
        "    \n",
        "    return Z, cache"
      ]
    },
    {
      "cell_type": "code",
      "execution_count": 59,
      "metadata": {
        "deletable": false,
        "editable": false,
        "nbgrader": {
          "cell_type": "code",
          "checksum": "f19fe38e8004fe3581b0a52ac27dc5df",
          "grade": true,
          "grade_id": "cell-429520eed87675d9",
          "locked": true,
          "points": 10,
          "schema_version": 3,
          "solution": false,
          "task": false
        },
        "colab": {
          "base_uri": "https://localhost:8080/"
        },
        "id": "mT0_ukuqnK3q",
        "outputId": "f0453ebd-0b47-4b87-83bb-c267c90ccf85"
      },
      "outputs": [
        {
          "output_type": "stream",
          "name": "stdout",
          "text": [
            "(7, 9, 4)\n",
            "(7, 9, 4)\n",
            "Z's mean =\n",
            " 0.5511276474566768\n",
            "Z[0,2,1] =\n",
            " [-2.17796037  8.07171329 -0.5772704   3.36286738  4.48113645 -2.89198428\n",
            " 10.99288867  3.03171932]\n",
            "cache_conv[0][1][2][3] =\n",
            " [-1.1191154   1.9560789  -0.3264995  -1.34267579]\n"
          ]
        }
      ],
      "source": [
        "np.random.seed(1)\n",
        "A_prev = np.random.randn(2, 5, 7, 4)\n",
        "W = np.random.randn(3, 3, 4, 8)\n",
        "b = np.random.randn(1, 1, 1, 8)\n",
        "hparameters = {\"pad\" : 1,\n",
        "               \"stride\": 2}\n",
        "\n",
        "Z, cache_conv = conv_forward(A_prev, W, b, hparameters)\n",
        "z_mean = np.mean(Z)\n",
        "z_0_2_1 = Z[0, 2, 1]\n",
        "cache_0_1_2_3 = cache_conv[0][1][2][3]\n",
        "print(\"Z's mean =\\n\", z_mean)\n",
        "print(\"Z[0,2,1] =\\n\", z_0_2_1)\n",
        "print(\"cache_conv[0][1][2][3] =\\n\", cache_0_1_2_3)\n"
      ]
    },
    {
      "cell_type": "markdown",
      "metadata": {
        "id": "opvju_NOnK3q"
      },
      "source": [
        "Finally, a CONV layer should also contain an activation, in which case you would add the following line of code:\n",
        "\n",
        "```python\n",
        "# Convolve the window to get back one output neuron\n",
        "Z[i, h, w, c] = ...\n",
        "# Apply activation\n",
        "A[i, h, w, c] = activation(Z[i, h, w, c])\n",
        "```\n",
        "\n",
        "You don't need to do it here, however. \n"
      ]
    },
    {
      "cell_type": "code",
      "execution_count": 60,
      "metadata": {
        "deletable": false,
        "nbgrader": {
          "cell_type": "code",
          "checksum": "0201a499bc4a2249c65fa3a736985fac",
          "grade": false,
          "grade_id": "cell-aed533a126205ca2",
          "locked": false,
          "schema_version": 3,
          "solution": true,
          "task": false
        },
        "id": "8-qsHvXJnK3r"
      },
      "outputs": [],
      "source": [
        "# GRADED FUNCTION: pool_forward\n",
        "\n",
        "def pool_forward(A_prev, hparameters, mode = \"max\"):\n",
        "    \"\"\"\n",
        "    Implements the forward pass of the pooling layer\n",
        "    \n",
        "    Arguments:\n",
        "    A_prev -- Input data, numpy array of shape (m, n_H_prev, n_W_prev, n_C_prev)\n",
        "    hparameters -- python dictionary containing \"f\" and \"stride\"\n",
        "    mode -- the pooling mode you would like to use, defined as a string (\"max\" or \"average\")\n",
        "    \n",
        "    Returns:\n",
        "    A -- output of the pool layer, a numpy array of shape (m, n_H, n_W, n_C)\n",
        "    cache -- cache used in the backward pass of the pooling layer, contains the input and hparameters \n",
        "    \"\"\"\n",
        "    \n",
        "    # Retrieve dimensions from the input shape\n",
        "    (m, n_H_prev, n_W_prev, n_C_prev) = A_prev.shape\n",
        "    \n",
        "    # Retrieve hyperparameters from \"hparameters\"\n",
        "    f = hparameters[\"f\"]\n",
        "    stride = hparameters[\"stride\"]\n",
        "    \n",
        "    # Define the dimensions of the output\n",
        "    n_H = int(1 + (n_H_prev - f) / stride)\n",
        "    n_W = int(1 + (n_W_prev - f) / stride)\n",
        "    n_C = n_C_prev\n",
        "    \n",
        "    # Initialize output matrix A\n",
        "    A = np.zeros((m, n_H, n_W, n_C))              \n",
        "    \n",
        "    # YOUR CODE STARTS HERE\n",
        "    for i in range(m):\n",
        "        for h in range(n_H):\n",
        "            vert_start = h * stride\n",
        "            vert_end = f + vert_start\n",
        "            for w in range(n_W):\n",
        "                horiz_start = w * stride\n",
        "                horiz_end = f + horiz_start\n",
        "                for c in range(n_C):\n",
        "                    a_prev_slice = A_prev[i,vert_start:vert_end,horiz_start:horiz_end,c]\n",
        "                    if mode == \"max\":\n",
        "                        A[i, h, w, c] = np.max(a_prev_slice)\n",
        "                    elif mode == \"average\":\n",
        "                        A[i, h, w, c] = np.mean(a_prev_slice)\n",
        "    # YOUR CODE ENDS HERE\n",
        "\n",
        "    # Store the input and hparameters in \"cache\" for pool_backward()\n",
        "    cache = (A_prev, hparameters)\n",
        "    \n",
        "    \n",
        "    \n",
        "    return A, cache"
      ]
    },
    {
      "cell_type": "code",
      "execution_count": 61,
      "metadata": {
        "deletable": false,
        "editable": false,
        "nbgrader": {
          "cell_type": "code",
          "checksum": "41872940d42f284c524d3b66eaf3c205",
          "grade": true,
          "grade_id": "cell-ae96f27f888cec37",
          "locked": true,
          "points": 10,
          "schema_version": 3,
          "solution": false,
          "task": false
        },
        "colab": {
          "base_uri": "https://localhost:8080/"
        },
        "id": "GnxEMi2KnK3s",
        "outputId": "ccedd462-e783-4d30-b032-01e284df9115"
      },
      "outputs": [
        {
          "output_type": "stream",
          "name": "stdout",
          "text": [
            "mode = max\n",
            "A.shape = (2, 3, 3, 3)\n",
            "A[1, 1] =\n",
            " [[1.96710175 0.84616065 1.27375593]\n",
            " [1.96710175 0.84616065 1.23616403]\n",
            " [1.62765075 1.12141771 1.2245077 ]]\n",
            "mode = average\n",
            "A.shape = (2, 3, 3, 3)\n",
            "A[1, 1] =\n",
            " [[ 0.44497696 -0.00261695 -0.31040307]\n",
            " [ 0.50811474 -0.23493734 -0.23961183]\n",
            " [ 0.11872677  0.17255229 -0.22112197]]\n"
          ]
        }
      ],
      "source": [
        "# Case 1: stride of 1\n",
        "np.random.seed(1)\n",
        "A_prev = np.random.randn(2, 5, 5, 3)\n",
        "hparameters = {\"stride\" : 1, \"f\": 3}\n",
        "\n",
        "A, cache = pool_forward(A_prev, hparameters, mode = \"max\")\n",
        "print(\"mode = max\")\n",
        "print(\"A.shape = \" + str(A.shape))\n",
        "print(\"A[1, 1] =\\n\", A[1, 1])\n",
        "A, cache = pool_forward(A_prev, hparameters, mode = \"average\")\n",
        "print(\"mode = average\")\n",
        "print(\"A.shape = \" + str(A.shape))\n",
        "print(\"A[1, 1] =\\n\", A[1, 1])\n"
      ]
    },
    {
      "cell_type": "markdown",
      "metadata": {
        "id": "As5WLJv7nK3s"
      },
      "source": [
        "**Expected output**\n",
        "\n",
        "```\n",
        "mode = max\n",
        "A.shape = (2, 3, 3, 3)\n",
        "A[1, 1] =\n",
        " [[1.96710175 0.84616065 1.27375593]\n",
        " [1.96710175 0.84616065 1.23616403]\n",
        " [1.62765075 1.12141771 1.2245077 ]]\n",
        "\n",
        "mode = average\n",
        "A.shape = (2, 3, 3, 3)\n",
        "A[1, 1] =\n",
        " [[ 0.44497696 -0.00261695 -0.31040307]\n",
        " [ 0.50811474 -0.23493734 -0.23961183]\n",
        " [ 0.11872677  0.17255229 -0.22112197]]\n",
        "```"
      ]
    },
    {
      "cell_type": "code",
      "execution_count": 62,
      "metadata": {
        "deletable": false,
        "editable": false,
        "nbgrader": {
          "cell_type": "code",
          "checksum": "756f8dfdbdba11c66fc0b342d8be23c4",
          "grade": true,
          "grade_id": "cell-2bc34b23ee92311b",
          "locked": true,
          "points": 0,
          "schema_version": 3,
          "solution": false,
          "task": false
        },
        "colab": {
          "base_uri": "https://localhost:8080/"
        },
        "id": "AYVsuCMwnK3s",
        "outputId": "62527d17-a71c-4514-ac68-d4bfff359e17"
      },
      "outputs": [
        {
          "output_type": "stream",
          "name": "stdout",
          "text": [
            "mode = max\n",
            "A.shape = (2, 2, 2, 3)\n",
            "A[0] =\n",
            " [[[1.74481176 0.90159072 1.65980218]\n",
            "  [1.74481176 1.6924546  1.65980218]]\n",
            "\n",
            " [[1.13162939 1.51981682 2.18557541]\n",
            "  [1.13162939 1.6924546  2.18557541]]]\n",
            "\n",
            "mode = average\n",
            "A.shape = (2, 2, 2, 3)\n",
            "A[1] =\n",
            " [[[-0.17313416  0.32377198 -0.34317572]\n",
            "  [ 0.02030094  0.14141479 -0.01231585]]\n",
            "\n",
            " [[ 0.42944926  0.08446996 -0.27290905]\n",
            "  [ 0.15077452  0.28911175  0.00123239]]]\n"
          ]
        }
      ],
      "source": [
        "# Case 2: stride of 2\n",
        "np.random.seed(1)\n",
        "A_prev = np.random.randn(2, 5, 5, 3)\n",
        "hparameters = {\"stride\" : 2, \"f\": 3}\n",
        "\n",
        "A, cache = pool_forward(A_prev, hparameters)\n",
        "print(\"mode = max\")\n",
        "print(\"A.shape = \" + str(A.shape))\n",
        "print(\"A[0] =\\n\", A[0])\n",
        "print()\n",
        "\n",
        "A, cache = pool_forward(A_prev, hparameters, mode = \"average\")\n",
        "print(\"mode = average\")\n",
        "print(\"A.shape = \" + str(A.shape))\n",
        "print(\"A[1] =\\n\", A[1])"
      ]
    },
    {
      "cell_type": "markdown",
      "metadata": {
        "id": "DADCUuzfnK3t"
      },
      "source": [
        "**Expected Output:**\n",
        "    \n",
        "```\n",
        "mode = max\n",
        "A.shape = (2, 2, 2, 3)\n",
        "A[0] =\n",
        " [[[1.74481176 0.90159072 1.65980218]\n",
        "  [1.74481176 1.6924546  1.65980218]]\n",
        "\n",
        " [[1.13162939 1.51981682 2.18557541]\n",
        "  [1.13162939 1.6924546  2.18557541]]]\n",
        "\n",
        "mode = average\n",
        "A.shape = (2, 2, 2, 3)\n",
        "A[1] =\n",
        " [[[-0.17313416  0.32377198 -0.34317572]\n",
        "  [ 0.02030094  0.14141479 -0.01231585]]\n",
        "\n",
        " [[ 0.42944926  0.08446996 -0.27290905]\n",
        "  [ 0.15077452  0.28911175  0.00123239]]]\n",
        "```"
      ]
    },
    {
      "cell_type": "markdown",
      "metadata": {
        "id": "r1g9DXl_nK3t"
      },
      "source": [
        "<a name='5'></a>\n",
        "## 5 - Backpropagation in Convolutional Neural Networks (OPTIONAL / UNGRADED)\n",
        "\n",
        "In modern deep learning frameworks, you only have to implement the forward pass, and the framework takes care of the backward pass, so most deep learning engineers don't need to bother with the details of the backward pass. The backward pass for convolutional networks is complicated. If you wish, you can work through this optional portion of the notebook to get a sense of what backprop in a convolutional network looks like. \n",
        "\n",
        "When in an earlier course you implemented a simple (fully connected) neural network, you used backpropagation to compute the derivatives with respect to the cost to update the parameters. Similarly, in convolutional neural networks you can calculate the derivatives with respect to the cost in order to update the parameters. The backprop equations are not trivial and were not derived in lecture, but  are briefly presented below.\n",
        "\n",
        "<a name='5-1'></a>\n",
        "### 5.1 - Convolutional Layer Backward Pass \n",
        "\n",
        "Let's start by implementing the backward pass for a CONV layer. \n",
        "\n",
        "<a name='5-1-1'></a>\n",
        "#### 5.1.1 - Computing dA:\n",
        "This is the formula for computing $dA$ with respect to the cost for a certain filter $W_c$ and a given training example:\n",
        "\n",
        "$$dA \\mathrel{+}= \\sum _{h=0} ^{n_H} \\sum_{w=0} ^{n_W} W_c \\times dZ_{hw} \\tag{1}$$\n",
        "\n",
        "Where $W_c$ is a filter and $dZ_{hw}$ is a scalar corresponding to the gradient of the cost with respect to the output of the conv layer Z at the hth row and wth column (corresponding to the dot product taken at the ith stride left and jth stride down). Note that at each time, you multiply the the same filter $W_c$ by a different dZ when updating dA. We do so mainly because when computing the forward propagation, each filter is dotted and summed by a different a_slice. Therefore when computing the backprop for dA, you are just adding the gradients of all the a_slices. \n",
        "\n",
        "In code, inside the appropriate for-loops, this formula translates into:\n",
        "```python\n",
        "da_prev_pad[vert_start:vert_end, horiz_start:horiz_end, :] += W[:,:,:,c] * dZ[i, h, w, c]\n",
        "```\n",
        "\n",
        "<a name='5-1-2'></a>\n",
        "#### 5.1.2 - Computing dW:\n",
        "This is the formula for computing $dW_c$ ($dW_c$ is the derivative of one filter) with respect to the loss:\n",
        "\n",
        "$$dW_c  \\mathrel{+}= \\sum _{h=0} ^{n_H} \\sum_{w=0} ^ {n_W} a_{slice} \\times dZ_{hw}  \\tag{2}$$\n",
        "\n",
        "Where $a_{slice}$ corresponds to the slice which was used to generate the activation $Z_{ij}$. Hence, this ends up giving us the gradient for $W$ with respect to that slice. Since it is the same $W$, we will just add up all such gradients to get $dW$. \n",
        "\n",
        "In code, inside the appropriate for-loops, this formula translates into:\n",
        "```python\n",
        "dW[:,:,:,c] \\mathrel{+}= a_slice * dZ[i, h, w, c]\n",
        "```\n",
        "\n",
        "<a name='5-1-3'></a>\n",
        "#### 5.1.3 - Computing db:\n",
        "\n",
        "This is the formula for computing $db$ with respect to the cost for a certain filter $W_c$:\n",
        "\n",
        "$$db = \\sum_h \\sum_w dZ_{hw} \\tag{3}$$\n",
        "\n",
        "As you have previously seen in basic neural networks, db is computed by summing $dZ$. In this case, you are just summing over all the gradients of the conv output (Z) with respect to the cost. \n",
        "\n",
        "In code, inside the appropriate for-loops, this formula translates into:\n",
        "```python\n",
        "db[:,:,:,c] += dZ[i, h, w, c]\n",
        "```\n",
        "\n",
        "<a name='ex-5'></a>\n",
        "### Exercise 5 - conv_backward\n",
        "\n",
        "Implement the `conv_backward` function below. You should sum over all the training examples, filters, heights, and widths. You should then compute the derivatives using formulas 1, 2 and 3 above. "
      ]
    },
    {
      "cell_type": "code",
      "execution_count": 63,
      "metadata": {
        "deletable": false,
        "nbgrader": {
          "cell_type": "code",
          "checksum": "ac01f3e4e6f7707fb3153d5306020619",
          "grade": false,
          "grade_id": "cell-651d7957ed306d8d",
          "locked": false,
          "schema_version": 3,
          "solution": true,
          "task": false
        },
        "id": "D4xXbw2-nK3t"
      },
      "outputs": [],
      "source": [
        "def conv_backward(dZ, cache):\n",
        "    \"\"\"\n",
        "    Implement the backward propagation for a convolution function\n",
        "    \n",
        "    Arguments:\n",
        "    dZ -- gradient of the cost with respect to the output of the conv layer (Z), numpy array of shape (m, n_H, n_W, n_C)\n",
        "    cache -- cache of values needed for the conv_backward(), output of conv_forward()\n",
        "    \n",
        "    Returns:\n",
        "    dA_prev -- gradient of the cost with respect to the input of the conv layer (A_prev),\n",
        "               numpy array of shape (m, n_H_prev, n_W_prev, n_C_prev)\n",
        "    dW -- gradient of the cost with respect to the weights of the conv layer (W)\n",
        "          numpy array of shape (f, f, n_C_prev, n_C)\n",
        "    db -- gradient of the cost with respect to the biases of the conv layer (b)\n",
        "          numpy array of shape (1, 1, 1, n_C)\n",
        "    \"\"\"    \n",
        "    \n",
        "    # YOUR CODE STARTS HERE\n",
        "    (A_prev, W, b, hparameters) = cache\n",
        "    (m, n_H_prev, n_W_prev, n_C_prev) = A_prev.shape\n",
        "    (f, f, n_C_prev, n_C) = W.shape\n",
        "    stride = hparameters['stride']\n",
        "    pad = hparameters['pad']\n",
        "    (m, n_H, n_W, n_C) = dZ.shape\n",
        "    dA_prev = np.zeros(A_prev.shape)                          \n",
        "    dW = np.zeros(W.shape) \n",
        "    db = np.zeros(b.shape)\n",
        "    A_prev_pad = zero_pad(A_prev, pad)\n",
        "    dA_prev_pad = zero_pad(dA_prev, pad)\n",
        "    for i in range(m):\n",
        "        a_prev_pad = A_prev_pad[i]\n",
        "        da_prev_pad = dA_prev_pad[i]\n",
        "        for h in range(n_H):\n",
        "            for w in range(n_W):\n",
        "                for c in range(n_C):\n",
        "                    vert_start = h * stride\n",
        "                    vert_end = f + vert_start\n",
        "                    horiz_start = w * stride\n",
        "                    horiz_end = f + horiz_start\n",
        "                    a_slice = a_prev_pad[vert_start:vert_end,horiz_start:horiz_end,:]\n",
        "                    da_prev_pad[vert_start:vert_end, horiz_start:horiz_end, :] += W[:,:,:,c] * dZ[i, h, w, c]\n",
        "                    dW[:,:,:,c] += a_slice * dZ[i, h, w, c]\n",
        "                    db[:,:,:,c] += dZ[i, h, w, c]\n",
        "        dA_prev[i]=da_prev_pad[pad:-pad, pad:-pad, :]\n",
        "    # YOUR CODE ENDS HERE\n",
        "    \n",
        "    # Making sure your output shape is correct\n",
        "    assert(dA_prev.shape == (m, n_H_prev, n_W_prev, n_C_prev))\n",
        "    \n",
        "    return dA_prev, dW, db"
      ]
    },
    {
      "cell_type": "code",
      "execution_count": 64,
      "metadata": {
        "deletable": false,
        "editable": false,
        "nbgrader": {
          "cell_type": "code",
          "checksum": "fa7b07d566b435decefd8c5bd1b5c4db",
          "grade": true,
          "grade_id": "cell-ddba321326674547",
          "locked": true,
          "points": 0,
          "schema_version": 3,
          "solution": false,
          "task": false
        },
        "colab": {
          "base_uri": "https://localhost:8080/"
        },
        "id": "ANUiq2P0nK3u",
        "outputId": "9fa54224-286d-409f-fe6b-f0df6e00b88e"
      },
      "outputs": [
        {
          "output_type": "stream",
          "name": "stdout",
          "text": [
            "(8, 8, 3)\n",
            "(8, 8, 3)\n",
            "(8, 8, 3)\n",
            "(8, 8, 3)\n",
            "(8, 8, 3)\n",
            "(8, 8, 3)\n",
            "(8, 8, 3)\n",
            "(8, 8, 3)\n",
            "(8, 8, 3)\n",
            "(8, 8, 3)\n",
            "dA_mean = 1.4524377775388075\n",
            "dW_mean = 1.7269914583139097\n",
            "db_mean = 7.839232564616838\n",
            "\u001b[92m All tests passed.\n"
          ]
        }
      ],
      "source": [
        "# We'll run conv_forward to initialize the 'Z' and 'cache_conv\",\n",
        "# which we'll use to test the conv_backward function\n",
        "np.random.seed(1)\n",
        "A_prev = np.random.randn(10, 4, 4, 3)\n",
        "W = np.random.randn(2, 2, 3, 8)\n",
        "b = np.random.randn(1, 1, 1, 8)\n",
        "hparameters = {\"pad\" : 2,\n",
        "               \"stride\": 2}\n",
        "Z, cache_conv = conv_forward(A_prev, W, b, hparameters)\n",
        "\n",
        "# Test conv_backward\n",
        "dA, dW, db = conv_backward(Z, cache_conv)\n",
        "\n",
        "print(\"dA_mean =\", np.mean(dA))\n",
        "print(\"dW_mean =\", np.mean(dW))\n",
        "print(\"db_mean =\", np.mean(db))\n",
        "\n",
        "assert type(dA) == np.ndarray, \"Output must be a np.ndarray\"\n",
        "assert type(dW) == np.ndarray, \"Output must be a np.ndarray\"\n",
        "assert type(db) == np.ndarray, \"Output must be a np.ndarray\"\n",
        "assert dA.shape == (10, 4, 4, 3), f\"Wrong shape for dA  {dA.shape} != (10, 4, 4, 3)\"\n",
        "assert dW.shape == (2, 2, 3, 8), f\"Wrong shape for dW {dW.shape} != (2, 2, 3, 8)\"\n",
        "assert db.shape == (1, 1, 1, 8), f\"Wrong shape for db {db.shape} != (1, 1, 1, 8)\"\n",
        "assert np.isclose(np.mean(dA), 1.4524377), \"Wrong values for dA\"\n",
        "assert np.isclose(np.mean(dW), 1.7269914), \"Wrong values for dW\"\n",
        "assert np.isclose(np.mean(db), 7.8392325), \"Wrong values for db\"\n",
        "\n",
        "print(\"\\033[92m All tests passed.\")"
      ]
    },
    {
      "cell_type": "markdown",
      "metadata": {
        "id": "fNgygUB8nK3u"
      },
      "source": [
        "**Expected Output**:\n",
        "<table>\n",
        "    <tr>\n",
        "        <td>\n",
        "            dA_mean\n",
        "        </td>\n",
        "        <td>\n",
        "            1.45243777754\n",
        "        </td>\n",
        "    </tr>\n",
        "    <tr>\n",
        "        <td>\n",
        "            dW_mean\n",
        "        </td>\n",
        "        <td>\n",
        "            1.72699145831\n",
        "        </td>\n",
        "    </tr>\n",
        "    <tr>\n",
        "        <td>\n",
        "            db_mean\n",
        "        </td>\n",
        "        <td>\n",
        "            7.83923256462\n",
        "        </td>\n",
        "    </tr>\n",
        "\n",
        "</table>\n"
      ]
    },
    {
      "cell_type": "markdown",
      "metadata": {
        "id": "WKQ_CyRonK3u"
      },
      "source": [
        "<a name='5-2'></a>\n",
        "## 5.2 Pooling Layer - Backward Pass\n",
        "\n",
        "Next, let's implement the backward pass for the pooling layer, starting with the MAX-POOL layer. Even though a pooling layer has no parameters for backprop to update, you still need to backpropagate the gradient through the pooling layer in order to compute gradients for layers that came before the pooling layer. \n",
        "\n",
        "<a name='5-2-1'></a>\n",
        "### 5.2.1 Max Pooling - Backward Pass  \n",
        "\n",
        "Before jumping into the backpropagation of the pooling layer, you are going to build a helper function called `create_mask_from_window()` which does the following: \n",
        "\n",
        "$$ X = \\begin{bmatrix}\n",
        "1 && 3 \\\\\n",
        "4 && 2\n",
        "\\end{bmatrix} \\quad \\rightarrow  \\quad M =\\begin{bmatrix}\n",
        "0 && 0 \\\\\n",
        "1 && 0\n",
        "\\end{bmatrix}\\tag{4}$$\n",
        "\n",
        "As you can see, this function creates a \"mask\" matrix which keeps track of where the maximum of the matrix is. True (1) indicates the position of the maximum in X, the other entries are False (0). You'll see later that the backward pass for average pooling is similar to this, but uses a different mask.  \n",
        "\n",
        "<a name='ex-6'></a>\n",
        "### Exercise 6 - create_mask_from_window\n",
        "\n",
        "Implement `create_mask_from_window()`. This function will be helpful for pooling backward. \n",
        "Hints:\n",
        "- [np.max()]() may be helpful. It computes the maximum of an array.\n",
        "- If you have a matrix X and a scalar x: `A = (X == x)` will return a matrix A of the same size as X such that:\n",
        "```\n",
        "A[i,j] = True if X[i,j] = x\n",
        "A[i,j] = False if X[i,j] != x\n",
        "```\n",
        "- Here, you don't need to consider cases where there are several maxima in a matrix."
      ]
    },
    {
      "cell_type": "code",
      "execution_count": 65,
      "metadata": {
        "deletable": false,
        "nbgrader": {
          "cell_type": "code",
          "checksum": "f0088c2c652d94afd13fcc4cf81ff5a0",
          "grade": false,
          "grade_id": "cell-75cdfabbbe3c7905",
          "locked": false,
          "schema_version": 3,
          "solution": true,
          "task": false
        },
        "id": "jHoz0z4RnK3v"
      },
      "outputs": [],
      "source": [
        "def create_mask_from_window(x):\n",
        "    \"\"\"\n",
        "    Creates a mask from an input matrix x, to identify the max entry of x.\n",
        "    \n",
        "    Arguments:\n",
        "    x -- Array of shape (f, f)\n",
        "    \n",
        "    Returns:\n",
        "    mask -- Array of the same shape as window, contains a True at the position corresponding to the max entry of x.\n",
        "    \"\"\"    \n",
        "    # YOUR CODE STARTS HERE\n",
        "    mask = np.max(x)==x\n",
        "    \n",
        "    # YOUR CODE ENDS HERE\n",
        "    return mask"
      ]
    },
    {
      "cell_type": "code",
      "execution_count": 66,
      "metadata": {
        "deletable": false,
        "editable": false,
        "nbgrader": {
          "cell_type": "code",
          "checksum": "b239ffa3896a12254d087dc617b92a2a",
          "grade": true,
          "grade_id": "cell-83c1f6349c3fc0ad",
          "locked": true,
          "points": 0,
          "schema_version": 3,
          "solution": false,
          "task": false
        },
        "colab": {
          "base_uri": "https://localhost:8080/"
        },
        "id": "f2WvjPLbnK3v",
        "outputId": "7cb5a2a1-9130-4346-cf0d-8d271e194878"
      },
      "outputs": [
        {
          "output_type": "stream",
          "name": "stdout",
          "text": [
            "x =  [[ 1.62434536 -0.61175641 -0.52817175]\n",
            " [-1.07296862  0.86540763 -2.3015387 ]]\n",
            "mask =  [[ True False False]\n",
            " [False False False]]\n",
            "\u001b[92m All tests passed.\n"
          ]
        }
      ],
      "source": [
        "np.random.seed(1)\n",
        "x = np.random.randn(2, 3)\n",
        "mask = create_mask_from_window(x)\n",
        "print('x = ', x)\n",
        "print(\"mask = \", mask)\n",
        "\n",
        "x = np.array([[-1, 2, 3],\n",
        "              [2, -3, 2],\n",
        "              [1, 5, -2]])\n",
        "\n",
        "y = np.array([[False, False, False],\n",
        "     [False, False, False],\n",
        "     [False, True, False]])\n",
        "mask = create_mask_from_window(x)\n",
        "\n",
        "assert type(mask) == np.ndarray, \"Output must be a np.ndarray\"\n",
        "assert mask.shape == x.shape, \"Input and output shapes must match\"\n",
        "assert np.allclose(mask, y), \"Wrong output. The True value must be at position (2, 1)\"\n",
        "\n",
        "print(\"\\033[92m All tests passed.\")"
      ]
    },
    {
      "cell_type": "markdown",
      "metadata": {
        "id": "vD_phplBnK3v"
      },
      "source": [
        "**Expected Output:** \n",
        "\n",
        "<table> \n",
        "<tr> \n",
        "<td>\n",
        "\n",
        "**x =**\n",
        "</td>\n",
        "\n",
        "<td>\n",
        "\n",
        "[[ 1.62434536 -0.61175641 -0.52817175] <br>\n",
        " [-1.07296862  0.86540763 -2.3015387 ]]\n",
        "\n",
        "  </td>\n",
        "</tr>\n",
        "\n",
        "<tr> \n",
        "<td>\n",
        "mask =\n",
        "</td>\n",
        "<td>\n",
        "[[ True False False] <br>\n",
        " [False False False]]\n",
        "</td>\n",
        "</tr>\n",
        "\n",
        "\n",
        "</table>"
      ]
    },
    {
      "cell_type": "markdown",
      "metadata": {
        "id": "7gCsvdTVnK3v"
      },
      "source": [
        "Why keep track of the position of the max? It's because this is the input value that ultimately influenced the output, and therefore the cost. Backprop is computing gradients with respect to the cost, so anything that influences the ultimate cost should have a non-zero gradient. So, backprop will \"propagate\" the gradient back to this particular input value that had influenced the cost. "
      ]
    },
    {
      "cell_type": "markdown",
      "metadata": {
        "id": "ABONd2z0nK3v"
      },
      "source": [
        "<a name='5-2-2'></a>\n",
        "### 5.2.2 - Average Pooling - Backward Pass \n",
        "\n",
        "In max pooling, for each input window, all the \"influence\" on the output came from a single input value--the max. In average pooling, every element of the input window has equal influence on the output. So to implement backprop, you will now implement a helper function that reflects this.\n",
        "\n",
        "For example if we did average pooling in the forward pass using a 2x2 filter, then the mask you'll use for the backward pass will look like: \n",
        "$$ dZ = 1 \\quad \\rightarrow  \\quad dZ =\\begin{bmatrix}\n",
        "1/4 && 1/4 \\\\\n",
        "1/4 && 1/4\n",
        "\\end{bmatrix}\\tag{5}$$\n",
        "\n",
        "This implies that each position in the $dZ$ matrix contributes equally to output because in the forward pass, we took an average. \n",
        "\n",
        "<a name='ex-7'></a>\n",
        "### Exercise 7 - distribute_value\n",
        "\n",
        "Implement the function below to equally distribute a value dz through a matrix of dimension shape. \n",
        "\n",
        "[Hint](https://docs.scipy.org/doc/numpy-1.13.0/reference/generated/numpy.ones.html)"
      ]
    },
    {
      "cell_type": "code",
      "execution_count": 67,
      "metadata": {
        "deletable": false,
        "nbgrader": {
          "cell_type": "code",
          "checksum": "b0a0950ce4306fe20c3345f0108a49bb",
          "grade": false,
          "grade_id": "cell-636557cd1667f01b",
          "locked": false,
          "schema_version": 3,
          "solution": true,
          "task": false
        },
        "id": "bLAZKHKCnK3w"
      },
      "outputs": [],
      "source": [
        "def distribute_value(dz, shape):\n",
        "    \"\"\"\n",
        "    Distributes the input value in the matrix of dimension shape\n",
        "    \n",
        "    Arguments:\n",
        "    dz -- input scalar\n",
        "    shape -- the shape (n_H, n_W) of the output matrix for which we want to distribute the value of dz\n",
        "    \n",
        "    Returns:\n",
        "    a -- Array of size (n_H, n_W) for which we distributed the value of dz\n",
        "    \"\"\"    \n",
        "    # YOUR CODE STARTS HERE\n",
        "    (n_H, n_W) = shape\n",
        "    average = dz / (n_H * n_W)\n",
        "    a=np.zeros((n_H, n_W)) + average\n",
        "    \n",
        "    # YOUR CODE ENDS HERE\n",
        "    return a"
      ]
    },
    {
      "cell_type": "code",
      "execution_count": 68,
      "metadata": {
        "deletable": false,
        "editable": false,
        "nbgrader": {
          "cell_type": "code",
          "checksum": "fe23f96c0d977d6414842a72fa08d64d",
          "grade": true,
          "grade_id": "cell-d34048b69372dc03",
          "locked": true,
          "points": 0,
          "schema_version": 3,
          "solution": false,
          "task": false
        },
        "colab": {
          "base_uri": "https://localhost:8080/"
        },
        "id": "xabnPPREnK3w",
        "outputId": "7b188e16-c2d0-4774-a8d2-81ed55b44316"
      },
      "outputs": [
        {
          "output_type": "stream",
          "name": "stdout",
          "text": [
            "distributed value = [[0.5 0.5]\n",
            " [0.5 0.5]]\n",
            "\u001b[92m All tests passed.\n"
          ]
        }
      ],
      "source": [
        "a = distribute_value(2, (2, 2))\n",
        "print('distributed value =', a)\n",
        "\n",
        "\n",
        "assert type(a) == np.ndarray, \"Output must be a np.ndarray\"\n",
        "assert a.shape == (2, 2), f\"Wrong shape {a.shape} != (2, 2)\"\n",
        "assert np.sum(a) == 2, \"Values must sum to 2\"\n",
        "\n",
        "a = distribute_value(100, (10, 10))\n",
        "assert type(a) == np.ndarray, \"Output must be a np.ndarray\"\n",
        "assert a.shape == (10, 10), f\"Wrong shape {a.shape} != (10, 10)\"\n",
        "assert np.sum(a) == 100, \"Values must sum to 100\"\n",
        "\n",
        "print(\"\\033[92m All tests passed.\")"
      ]
    },
    {
      "cell_type": "markdown",
      "metadata": {
        "id": "jsGPhPsinK3w"
      },
      "source": [
        "**Expected Output**: \n",
        "\n",
        "<table> \n",
        "<tr> \n",
        "<td>\n",
        "distributed_value =\n",
        "</td>\n",
        "<td>\n",
        "[[ 0.5  0.5]\n",
        "<br\\> \n",
        "[ 0.5  0.5]]\n",
        "</td>\n",
        "</tr>\n",
        "</table>"
      ]
    },
    {
      "cell_type": "markdown",
      "metadata": {
        "id": "2BUZs7r3nK3w"
      },
      "source": [
        "<a name='5-2-3'></a>\n",
        "### 5.2.3 Putting it Together: Pooling Backward \n",
        "\n",
        "You now have everything you need to compute backward propagation on a pooling layer.\n",
        "\n",
        "<a name='ex-8'></a>\n",
        "### Exercise 8 - pool_backward\n",
        "\n",
        "Implement the `pool_backward` function in both modes (`\"max\"` and `\"average\"`). You will once again use 4 for-loops (iterating over training examples, height, width, and channels). You should use an `if/elif` statement to see if the mode is equal to `'max'` or `'average'`. If it is equal to 'average' you should use the `distribute_value()` function you implemented above to create a matrix of the same shape as `a_slice`. Otherwise, the mode is equal to '`max`', and you will create a mask with `create_mask_from_window()` and multiply it by the corresponding value of dA."
      ]
    },
    {
      "cell_type": "code",
      "execution_count": 69,
      "metadata": {
        "deletable": false,
        "nbgrader": {
          "cell_type": "code",
          "checksum": "857929f83e0cff037571a794aff714de",
          "grade": false,
          "grade_id": "cell-46629e8e78d1ac80",
          "locked": false,
          "schema_version": 3,
          "solution": true,
          "task": false
        },
        "id": "K31Zu3mLnK3x"
      },
      "outputs": [],
      "source": [
        "def pool_backward(dA, cache, mode = \"max\"):\n",
        "    \"\"\"\n",
        "    Implements the backward pass of the pooling layer\n",
        "    \n",
        "    Arguments:\n",
        "    dA -- gradient of cost with respect to the output of the pooling layer, same shape as A\n",
        "    cache -- cache output from the forward pass of the pooling layer, contains the layer's input and hparameters \n",
        "    mode -- the pooling mode you would like to use, defined as a string (\"max\" or \"average\")\n",
        "    \n",
        "    Returns:\n",
        "    dA_prev -- gradient of cost with respect to the input of the pooling layer, same shape as A_prev\n",
        "    \"\"\"\n",
        "    # YOUR CODE STARTS HERE\n",
        "    (A_prev, hparameters) = cache\n",
        "    stride = hparameters['stride']\n",
        "    f = hparameters['f']\n",
        "    m, n_H_prev, n_W_prev, n_C_prev = A_prev.shape\n",
        "    m, n_H, n_W, n_C = dA.shape\n",
        "    dA_prev = np.zeros(A_prev.shape)\n",
        "    for i in range(m):\n",
        "        a_prev = A_prev[i]\n",
        "        for h in range(n_H):\n",
        "            for w in range(n_W):               \n",
        "                for c in range(n_C):\n",
        "                    vert_start = h * stride\n",
        "                    vert_end = f + vert_start\n",
        "                    horiz_start = w * stride\n",
        "                    horiz_end = f + horiz_start\n",
        "                    if mode == \"max\":\n",
        "                        a_prev_slice = a_prev[vert_start:vert_end,horiz_start:horiz_end,c]\n",
        "                        mask = create_mask_from_window(a_prev_slice)\n",
        "                        dA_prev[i, vert_start: vert_end, horiz_start: horiz_end, c] += mask * dA[i,h,w,c]\n",
        "                    elif mode == \"average\":\n",
        "                        \n",
        "                        da = dA[i,h,w,c]\n",
        "                        shape = (f,f)\n",
        "                        dA_prev[i, vert_start: vert_end, horiz_start: horiz_end, c] += distribute_value(da, shape)\n",
        "    # YOUR CODE ENDS HERE\n",
        "    \n",
        "    # Making sure your output shape is correct\n",
        "    assert(dA_prev.shape == A_prev.shape)\n",
        "    \n",
        "    return dA_prev"
      ]
    },
    {
      "cell_type": "code",
      "execution_count": 70,
      "metadata": {
        "deletable": false,
        "editable": false,
        "nbgrader": {
          "cell_type": "code",
          "checksum": "eeae810027f56d8418e9a89d7feec967",
          "grade": true,
          "grade_id": "cell-bf176d59f19c3cba",
          "locked": true,
          "points": 0,
          "schema_version": 3,
          "solution": false,
          "task": false
        },
        "colab": {
          "base_uri": "https://localhost:8080/"
        },
        "id": "Oz1H6sVYnK3x",
        "outputId": "ab3c25c7-429a-4020-e025-a60dab94760c"
      },
      "outputs": [
        {
          "output_type": "stream",
          "name": "stdout",
          "text": [
            "(5, 4, 2, 2)\n",
            "(5, 5, 3, 2)\n",
            "mode = max\n",
            "mean of dA =  0.14571390272918056\n",
            "dA_prev1[1,1] =  [[ 0.          0.        ]\n",
            " [ 5.05844394 -1.68282702]\n",
            " [ 0.          0.        ]]\n",
            "\n",
            "mode = average\n",
            "mean of dA =  0.14571390272918056\n",
            "dA_prev2[1,1] =  [[ 0.08485462  0.2787552 ]\n",
            " [ 1.26461098 -0.25749373]\n",
            " [ 1.17975636 -0.53624893]]\n",
            "\u001b[92m All tests passed.\n"
          ]
        }
      ],
      "source": [
        "np.random.seed(1)\n",
        "A_prev = np.random.randn(5, 5, 3, 2)\n",
        "hparameters = {\"stride\" : 1, \"f\": 2}\n",
        "A, cache = pool_forward(A_prev, hparameters)\n",
        "print(A.shape)\n",
        "print(cache[0].shape)\n",
        "dA = np.random.randn(5, 4, 2, 2)\n",
        "\n",
        "dA_prev1 = pool_backward(dA, cache, mode = \"max\")\n",
        "print(\"mode = max\")\n",
        "print('mean of dA = ', np.mean(dA))\n",
        "print('dA_prev1[1,1] = ', dA_prev1[1, 1])  \n",
        "print()\n",
        "dA_prev2 = pool_backward(dA, cache, mode = \"average\")\n",
        "print(\"mode = average\")\n",
        "print('mean of dA = ', np.mean(dA))\n",
        "print('dA_prev2[1,1] = ', dA_prev2[1, 1]) \n",
        "\n",
        "assert type(dA_prev1) == np.ndarray, \"Wrong type\"\n",
        "assert dA_prev1.shape == (5, 5, 3, 2), f\"Wrong shape {dA_prev1.shape} != (5, 5, 3, 2)\"\n",
        "assert np.allclose(dA_prev1[1, 1], [[0, 0], \n",
        "                                    [ 5.05844394, -1.68282702],\n",
        "                                    [ 0, 0]]), \"Wrong values for mode max\"\n",
        "assert np.allclose(dA_prev2[1, 1], [[0.08485462,  0.2787552], \n",
        "                                    [1.26461098, -0.25749373], \n",
        "                                    [1.17975636, -0.53624893]]), \"Wrong values for mode average\"\n",
        "print(\"\\033[92m All tests passed.\")"
      ]
    },
    {
      "cell_type": "markdown",
      "metadata": {
        "id": "ot0EvJxgnK3x"
      },
      "source": [
        "**Expected Output**: \n",
        "\n",
        "mode = max:\n",
        "<table> \n",
        "<tr> \n",
        "<td>\n",
        "\n",
        "**mean of dA =**\n",
        "</td>\n",
        "\n",
        "<td>\n",
        "\n",
        "0.145713902729\n",
        "\n",
        "  </td>\n",
        "</tr>\n",
        "\n",
        "<tr> \n",
        "<td>\n",
        "dA_prev[1,1] =\n",
        "</td>\n",
        "<td>\n",
        "[[ 0.          0.        ] <br>\n",
        " [ 5.05844394 -1.68282702] <br>\n",
        " [ 0.          0.        ]]\n",
        "</td>\n",
        "</tr>\n",
        "</table>\n",
        "\n",
        "mode = average\n",
        "<table> \n",
        "<tr> \n",
        "<td>\n",
        "\n",
        "mean of dA =\n",
        "</td>\n",
        "\n",
        "<td>\n",
        "\n",
        "0.145713902729\n",
        "\n",
        "  </td>\n",
        "</tr>\n",
        "\n",
        "<tr> \n",
        "<td>\n",
        "dA_prev[1,1] =\n",
        "</td>\n",
        "<td>\n",
        "[[ 0.08485462  0.2787552 ] <br>\n",
        " [ 1.26461098 -0.25749373] <br>\n",
        " [ 1.17975636 -0.53624893]]\n",
        "</td>\n",
        "</tr>\n",
        "</table>"
      ]
    },
    {
      "cell_type": "markdown",
      "metadata": {
        "id": "lD1sVsOpnK3x"
      },
      "source": [
        "**Congratulations**! You've completed the assignment and its optional portion. You now understand how convolutional neural networks work, and have implemented all the building blocks of a neural network. In the next assignment you will implement a ConvNet using TensorFlow. Nicely done! See you there."
      ]
    }
  ],
  "metadata": {
    "coursera": {
      "course_slug": "convolutional-neural-networks",
      "graded_item_id": "qO8ng",
      "launcher_item_id": "7XDi8"
    },
    "kernelspec": {
      "display_name": "Python 3",
      "language": "python",
      "name": "python3"
    },
    "language_info": {
      "codemirror_mode": {
        "name": "ipython",
        "version": 3
      },
      "file_extension": ".py",
      "mimetype": "text/x-python",
      "name": "python",
      "nbconvert_exporter": "python",
      "pygments_lexer": "ipython3",
      "version": "3.7.6"
    },
    "colab": {
      "provenance": [],
      "include_colab_link": true
    }
  },
  "nbformat": 4,
  "nbformat_minor": 0
}