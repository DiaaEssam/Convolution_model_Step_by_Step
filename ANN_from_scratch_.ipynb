{
  "cells": [
    {
      "cell_type": "markdown",
      "metadata": {
        "id": "view-in-github",
        "colab_type": "text"
      },
      "source": [
        "<a href=\"https://colab.research.google.com/github/DiaaEssam/Convolution_model_Step_by_Step/blob/main/ANN_from_scratch_.ipynb\" target=\"_parent\"><img src=\"https://colab.research.google.com/assets/colab-badge.svg\" alt=\"Open In Colab\"/></a>"
      ]
    },
    {
      "cell_type": "markdown",
      "metadata": {
        "id": "LyPqZRJO-Oi2"
      },
      "source": [
        "# Importing Libraries"
      ]
    },
    {
      "cell_type": "code",
      "execution_count": 1,
      "metadata": {
        "colab": {
          "base_uri": "https://localhost:8080/"
        },
        "id": "tifpZDxG0U7T",
        "outputId": "796d8325-b1f7-492f-9334-6d378d8c04c1"
      },
      "outputs": [
        {
          "output_type": "execute_result",
          "data": {
            "text/plain": [
              "{'divide': 'warn', 'over': 'warn', 'under': 'ignore', 'invalid': 'warn'}"
            ]
          },
          "metadata": {},
          "execution_count": 1
        }
      ],
      "source": [
        "import numpy as np\n",
        "import pandas as pd\n",
        "import matplotlib.pyplot as plt\n",
        "from keras.datasets import mnist\n",
        "import tensorflow as tf\n",
        "tf.test.gpu_device_name()\n",
        "np.seterr(over='ignore')"
      ]
    },
    {
      "cell_type": "markdown",
      "metadata": {
        "id": "dOIsaqeP-VvG"
      },
      "source": [
        "# Loading MNIST Dataset"
      ]
    },
    {
      "cell_type": "code",
      "execution_count": 2,
      "metadata": {
        "id": "GGd-IRay-Ii7",
        "colab": {
          "base_uri": "https://localhost:8080/"
        },
        "outputId": "881c7da4-00cd-40de-92ff-d45418ec8db4"
      },
      "outputs": [
        {
          "output_type": "stream",
          "name": "stdout",
          "text": [
            "Downloading data from https://storage.googleapis.com/tensorflow/tf-keras-datasets/mnist.npz\n",
            "11490434/11490434 [==============================] - 1s 0us/step\n"
          ]
        }
      ],
      "source": [
        "(X_train, y_train), (X_test, y_test) = mnist.load_data()"
      ]
    },
    {
      "cell_type": "markdown",
      "source": [
        "# Applying One Hot Encodeing for labels"
      ],
      "metadata": {
        "id": "IR7JkF4XsNMi"
      }
    },
    {
      "cell_type": "code",
      "source": [
        "\"\"\"num_classes=len(np.unique(y_train))\n",
        "y_train=np.array([np.insert(np.zeros(num_classes-1),i,1) for i in y_train]).astype(int) another way implemented by me\"\"\"\n",
        "\n",
        "from sklearn.preprocessing import OneHotEncoder\n",
        "\n",
        "enc = OneHotEncoder()\n",
        "y_train=enc.fit_transform(y_train.reshape(y_train.shape[0],1)).toarray().astype(int)\n",
        "y_test=enc.transform(y_test.reshape(y_test.shape[0],1)).toarray().astype(int)\n",
        "\n",
        "print(y_train.shape)\n",
        "print(y_train[0])\n",
        "print(y_test.shape)\n",
        "print(y_test[0])"
      ],
      "metadata": {
        "colab": {
          "base_uri": "https://localhost:8080/"
        },
        "id": "EThUYu2sY7h-",
        "outputId": "0a4aa9f8-3e63-44d3-b6dc-a98284c0cf3a"
      },
      "execution_count": 3,
      "outputs": [
        {
          "output_type": "stream",
          "name": "stdout",
          "text": [
            "(60000, 10)\n",
            "[0 0 0 0 0 1 0 0 0 0]\n",
            "(10000, 10)\n",
            "[0 0 0 0 0 0 0 1 0 0]\n"
          ]
        }
      ]
    },
    {
      "cell_type": "markdown",
      "metadata": {
        "id": "NLhxW1OG_LBC"
      },
      "source": [
        "# Visualizing some of The Data"
      ]
    },
    {
      "cell_type": "code",
      "execution_count": 4,
      "metadata": {
        "colab": {
          "base_uri": "https://localhost:8080/",
          "height": 433
        },
        "id": "t4asSvtF-TKt",
        "outputId": "4d4a89f7-ae00-4dd0-85f9-d35d03f21905"
      },
      "outputs": [
        {
          "output_type": "display_data",
          "data": {
            "text/plain": [
              "<Figure size 640x480 with 9 Axes>"
            ],
            "image/png": "[encoded data removed]"
          },
          "metadata": {}
        }
      ],
      "source": [
        "for i in range(9):  \n",
        "  plt.subplot(330 + 1 + i)\n",
        "  plt.imshow(X_train[i], cmap=plt.get_cmap('gray'))\n",
        "plt.show()"
      ]
    },
    {
      "cell_type": "markdown",
      "metadata": {
        "id": "RAsr_mZx-bfr"
      },
      "source": [
        "# Transforming The Dimensions"
      ]
    },
    {
      "cell_type": "code",
      "execution_count": 5,
      "metadata": {
        "colab": {
          "base_uri": "https://localhost:8080/"
        },
        "id": "iSs-MKw_-c5F",
        "outputId": "8aa6ef65-5ef4-4ac1-90fe-3fd22c3d282a"
      },
      "outputs": [
        {
          "output_type": "stream",
          "name": "stdout",
          "text": [
            "[[0. 0. 0. ... 0. 0. 0.]\n",
            " [0. 0. 0. ... 0. 0. 0.]\n",
            " [0. 0. 0. ... 0. 0. 0.]\n",
            " ...\n",
            " [0. 0. 0. ... 0. 0. 0.]\n",
            " [0. 0. 0. ... 0. 0. 0.]\n",
            " [0. 0. 0. ... 0. 0. 0.]]\n"
          ]
        }
      ],
      "source": [
        "X_train = X_train.astype('float32')\n",
        "X_test = X_test.astype('float32')\n",
        "\n",
        "X_train=X_train.reshape(X_train.shape[0],-1)\n",
        "X_test=X_test.reshape(X_test.shape[0],-1)\n",
        "print(X_train)"
      ]
    },
    {
      "cell_type": "code",
      "execution_count": 6,
      "metadata": {
        "colab": {
          "base_uri": "https://localhost:8080/"
        },
        "id": "E-AesVKU-Ms6",
        "outputId": "ba66cbf3-eca6-4c46-8739-0f3c2a901ded"
      },
      "outputs": [
        {
          "output_type": "stream",
          "name": "stdout",
          "text": [
            "X_train: (60000, 784)\n",
            "Y_train: (60000, 10)\n",
            "X_test:  (10000, 784)\n",
            "Y_test:  (10000, 10)\n"
          ]
        }
      ],
      "source": [
        "print('X_train: ' + str(X_train.shape))\n",
        "print('Y_train: ' + str(y_train.shape))\n",
        "print('X_test:  '  + str(X_test.shape))\n",
        "print('Y_test:  '  + str(y_test.shape))"
      ]
    },
    {
      "cell_type": "markdown",
      "metadata": {
        "id": "vchqJ-h5_VLX"
      },
      "source": [
        "# Standardizing The Data"
      ]
    },
    {
      "cell_type": "code",
      "execution_count": 7,
      "metadata": {
        "id": "34rMdf5Z8zHI"
      },
      "outputs": [],
      "source": [
        "\"\"\"\n",
        "Standardizing both the training set and test set using the mean and standard deviation of the training set,\n",
        "This is because it ensures that the test set is processed in the same way as the training set,\n",
        "and that the model's performance is evaluated on data that it has not seen before, without any information from the test set leaking into the training set.\n",
        "see the following link: https://stats.stackexchange.com/questions/202287/why-standardization-of-the-testing-set-has-to-be-performed-with-the-mean-and-sd\n",
        "\"\"\"\n",
        "def standardize(X,X_train):\n",
        "  return (X-np.mean(X_train,axis=0))/(np.std(X_train,axis=0) + 10e-16) # we need epsilon for feature (pixel) that has zero variance"
      ]
    },
    {
      "cell_type": "code",
      "source": [
        "X_train=standardize(X_train,X_train)\n",
        "X_test=standardize(X_test,X_test)\n",
        "#X_test=standardize(X_test,X_train) # correct way"
      ],
      "metadata": {
        "id": "Q9JTBiyqyoRC"
      },
      "execution_count": 8,
      "outputs": []
    },
    {
      "cell_type": "markdown",
      "metadata": {
        "id": "LXDQQG1__mxa"
      },
      "source": [
        "# Shuffle Function"
      ]
    },
    {
      "cell_type": "code",
      "execution_count": 9,
      "metadata": {
        "id": "RRaAlafLpTtV"
      },
      "outputs": [],
      "source": [
        "def Shuffle(X,y):\n",
        "  # Storing indeces of data\n",
        "  indices = np.arange(X.shape[0])\n",
        "  # Shuffling the indeces\n",
        "  np.random.shuffle(indices)\n",
        "  # update the data and target with the new shuffled indeces\n",
        "  X = X[indices]\n",
        "  y = y[indices]\n",
        "  return X,y"
      ]
    },
    {
      "cell_type": "code",
      "source": [
        "X_train,y_train=Shuffle(X_train,y_train)"
      ],
      "metadata": {
        "id": "GAlG62dJkBpo"
      },
      "execution_count": 10,
      "outputs": []
    },
    {
      "cell_type": "markdown",
      "metadata": {
        "id": "RMY6fej8AZc9"
      },
      "source": [
        "# Accuracy Function"
      ]
    },
    {
      "cell_type": "code",
      "execution_count": 11,
      "metadata": {
        "id": "9lvpVJHlAex9"
      },
      "outputs": [],
      "source": [
        "def Accuracy(y_pred,y_test):\n",
        "    # argmax returns the index of the maximum element in a numpy array \n",
        "    Acc=np.mean(np.argmax(y_test, axis=1) == np.argmax(y_pred, axis=1),axis=0) * 100\n",
        "    return round(Acc,1)"
      ]
    },
    {
      "cell_type": "markdown",
      "metadata": {
        "id": "basOFCu1BzrN"
      },
      "source": [
        "# Error Function"
      ]
    },
    {
      "cell_type": "code",
      "execution_count": 12,
      "metadata": {
        "id": "L1BMRDhxB3Gx"
      },
      "outputs": [],
      "source": [
        "def Error(y_pred,y_test):\n",
        "  return  (1/(2*y_test.shape[0])) * np.sum((y_pred-y_test)**2)"
      ]
    },
    {
      "cell_type": "markdown",
      "metadata": {
        "id": "E9TMd5LyEkwd"
      },
      "source": [
        "# Sigmoid Function"
      ]
    },
    {
      "cell_type": "code",
      "execution_count": 13,
      "metadata": {
        "id": "MGDhlTs8Enpr"
      },
      "outputs": [],
      "source": [
        "def sigmoid(z):\n",
        "    return 1.0/(1.0+np.exp(-z))"
      ]
    },
    {
      "cell_type": "markdown",
      "source": [
        "# Softmax Function"
      ],
      "metadata": {
        "id": "IV7m8b9kWpTA"
      }
    },
    {
      "cell_type": "code",
      "execution_count": 14,
      "metadata": {
        "id": "_gh6jPffx4hE"
      },
      "outputs": [],
      "source": [
        "def softmax(Z):\n",
        "  # Divides the exponent of Z on the sum of each row vector\n",
        "  Z=np.exp(Z)/np.sum(np.exp(Z),axis=1,keepdims=True)\n",
        "  return Z"
      ]
    },
    {
      "cell_type": "markdown",
      "source": [
        "# Layer_Size Function"
      ],
      "metadata": {
        "id": "z8RqsJQkl47s"
      }
    },
    {
      "cell_type": "code",
      "source": [
        "def layer_sizes(X,y,size_of_layers):\n",
        "    # Inserts the size of the input layer at the start of the array\n",
        "    size_of_layers.insert(0,X.shape[1])\n",
        "    return size_of_layers"
      ],
      "metadata": {
        "id": "YHBxKpMnl2_6"
      },
      "execution_count": 15,
      "outputs": []
    },
    {
      "cell_type": "code",
      "source": [
        "L_sizes=layer_sizes(X_train,y_train,[20,10])"
      ],
      "metadata": {
        "id": "JyuJmmKV1Si-"
      },
      "execution_count": 16,
      "outputs": []
    },
    {
      "cell_type": "markdown",
      "source": [
        "# Printing shapes"
      ],
      "metadata": {
        "id": "B4S1H7xQVQbJ"
      }
    },
    {
      "cell_type": "code",
      "source": [
        "def Print_shapes(container,param):\n",
        "  if param:\n",
        "    # Prints each W and each b between the layers\n",
        "    print('L',['layer '+str(i) for i in range(len(container[\"W\"])+1)])\n",
        "    print('W',[container['W'][i].shape for i in range(len(container[\"W\"]))])\n",
        "    print('b',[container['b'][i].shape for i in range(len(container[\"W\"]))])\n",
        "  else:\n",
        "    # Prints each dW and each db between the layers\n",
        "    print('L',['layer '+str(i) for i in range(len(container[\"dW\"])+1)])\n",
        "    print('dW',[container['dW'][i].shape for i in range(len(container[\"dW\"]))])\n",
        "    print('db',[container['db'][i].shape for i in range(len(container[\"dW\"]))])"
      ],
      "metadata": {
        "id": "DU29xgeFVVea"
      },
      "execution_count": 17,
      "outputs": []
    },
    {
      "cell_type": "markdown",
      "source": [
        "#Initializing the model's parameters"
      ],
      "metadata": {
        "id": "uwRnfuPhsu5Y"
      }
    },
    {
      "cell_type": "code",
      "source": [
        "def initialize_parameters(L_sizes):\n",
        "    W=[]\n",
        "    b=[]\n",
        "    # Inialize W to be size of next layer by size of current layer, Inialize b to be size of next layer by 1\n",
        "    for i in range(len(L_sizes)-1):\n",
        "      W.append(np.random.randn(L_sizes[i+1],L_sizes[i]))\n",
        "      b.append(np.zeros((L_sizes[i+1],1)))\n",
        "    \n",
        "    parameters = {\n",
        "        'W':W,\n",
        "        'b':b\n",
        "    }\n",
        "\n",
        "    Print_shapes(parameters,True)\n",
        "    \n",
        "    return parameters"
      ],
      "metadata": {
        "id": "s6IAPi9SstDD"
      },
      "execution_count": 18,
      "outputs": []
    },
    {
      "cell_type": "markdown",
      "source": [
        "# Forward propagation"
      ],
      "metadata": {
        "id": "QG0A7zlLDx_w"
      }
    },
    {
      "cell_type": "code",
      "source": [
        "def forward_propagation(X, parameters,Tanh=False):\n",
        "    \n",
        "    Z=[]\n",
        "    A=[]\n",
        "    for i in range(len(parameters[\"W\"])):\n",
        "                                                                  # if we are at the first layer then we use X, O.W. we use A[L-1]\n",
        "      Z.append(np.dot(parameters[\"W\"][i],X.T) + parameters[\"b\"][i]) if i==0 else Z.append(np.dot(parameters[\"W\"][i],A[i-1]) + parameters[\"b\"][i])\n",
        "      if Tanh:\n",
        "        A.append(sigmoid(Z[i])) if i==len(parameters[\"W\"])-1 else A.append(np.tanh(Z[i]))\n",
        "      else:\n",
        "        A.append(sigmoid(Z[i]))\n",
        "\n",
        "\n",
        "    cache = {\n",
        "        'Z':Z,\n",
        "        'A':A\n",
        "    }\n",
        "    \n",
        "    \n",
        "    return cache"
      ],
      "metadata": {
        "id": "GsszkiyfDwLW"
      },
      "execution_count": 19,
      "outputs": []
    },
    {
      "cell_type": "markdown",
      "source": [
        "# Backward Propagation"
      ],
      "metadata": {
        "id": "zqyRUYIwzTSz"
      }
    },
    {
      "cell_type": "code",
      "source": [
        "def backward_propagation(parameters, cache, X, y,print_once,Tanh=False):\n",
        "\n",
        "    dZ=[]\n",
        "    dW=[]\n",
        "    db=[]\n",
        "    j=0\n",
        "\n",
        "    # we will move backward so I reversed the direction of the iterator by giving (no. layer-1, -1 which will make the iterator stop at 0,-1 which is responsible for reversing the direction)\n",
        "    for i in range(len(parameters[\"W\"])-1,-1,-1):\n",
        "    # if last layer then compute dL/dZ = A[L] - y\n",
        "      if i==len(parameters[\"W\"])-1:\n",
        "        dZ.append(cache['A'][i].T-y)  \n",
        "    # else compute dL/dZ[L] = W[L+1] * dL/dZ[L+1] * dA/dZ[L], where dA/dZ[L] = A[L] * (1 - A[L])\n",
        "      else:\n",
        "        if Tanh:                                                                      # we check here if we can use dot product properly or do we need to transpose one of the arrays so the dot product could work\n",
        "          dZ.append(np.dot(parameters[\"W\"][i+1].T,dZ[j-1].T) * (1 - cache[\"A\"][i]**2)) if parameters[\"W\"][i+1].T.shape[1]==dZ[j-1].T.shape[0] else dZ.append(np.dot(parameters[\"W\"][i+1].T,dZ[j-1]) * (1 - cache[\"A\"][i]**2))\n",
        "        else:                                                                                       # we check here if we can use dot product properly or do we need to transpose one of the arrays so the dot product could work\n",
        "          dZ.append(np.dot(parameters[\"W\"][i+1].T,dZ[j-1].T) * (cache[\"A\"][i] * (1 - cache[\"A\"][i]))) if parameters[\"W\"][i+1].T.shape[1]==dZ[j-1].T.shape[0] else dZ.append(np.dot(parameters[\"W\"][i+1].T,dZ[j-1]) * (cache[\"A\"][i] * (1 - cache[\"A\"][i])))\n",
        "    # if first layer then compute dL/dW[L] = dL/dZ[L] * X\n",
        "      if i==0:\n",
        "        dW.append(1/y.shape[0] * np.dot(dZ[j],X))   \n",
        "    # else compute dL/dW[L] = dL/dZ[L] * A[L-1]\n",
        "      else:                                                         # we check here if we can use dot product properly or do we need to transpose one of the arrays so the dot product could work\n",
        "        dW.append(1/y.shape[0] * np.dot(dZ[j].T,cache['A'][i-1].T))  if dZ[j].T.shape[1]==cache['A'][i-1].T.shape[0] else  dW.append(1/y.shape[0] * np.dot(dZ[j],cache['A'][i-1].T))\n",
        "                                                                    # we make sure that the size of db be the same as b not (60000,1)\n",
        "      db.append(1/y.shape[0] * np.sum(dZ[j],axis=1,keepdims=True)) if np.sum(dZ[j],axis=1,keepdims=True).shape[0]!=X.shape[0] else db.append(1/y.shape[0] * np.sum(dZ[j].T,axis=1,keepdims=True))\n",
        "\n",
        "      j+=1\n",
        "    \n",
        "    grads = {\n",
        "        'dW':dW,\n",
        "        'db':db\n",
        "    }\n",
        "        \n",
        "    Print_shapes(grads,False) if print_once else \"\"\n",
        "    \n",
        "    return grads"
      ],
      "metadata": {
        "id": "yVjGgrIYZC65"
      },
      "execution_count": 20,
      "outputs": []
    },
    {
      "cell_type": "markdown",
      "source": [
        "# Update Parameters"
      ],
      "metadata": {
        "id": "b-uGgiF73inh"
      }
    },
    {
      "cell_type": "code",
      "source": [
        "def update_parameters(parameters, grads, learning_rate = 1.2):\n",
        "\n",
        "    for i in range(len(parameters[\"W\"])):\n",
        "    # last value stored in dW and db are the gradients for the first W and b, that's why we are using parameters[\"W\"])-1-i\n",
        "      parameters[\"W\"][i]=parameters[\"W\"][i]-learning_rate * grads['dW'][len(parameters[\"W\"])-1-i]\n",
        "      parameters[\"b\"][i]=parameters[\"b\"][i]-learning_rate * grads['db'][len(parameters[\"W\"])-1-i]\n",
        "    \n",
        "    return parameters"
      ],
      "metadata": {
        "id": "lQ27uDYP6axp"
      },
      "execution_count": 21,
      "outputs": []
    },
    {
      "cell_type": "markdown",
      "source": [
        "# Neural Network Using Sigmoid"
      ],
      "metadata": {
        "id": "3qFmSu993mX2"
      }
    },
    {
      "cell_type": "code",
      "source": [
        "def NN(X, y,num_of_layers,size_of_layers,epochs,LR,Tanh=False):\n",
        "    L_sizes=layer_sizes(X,y,size_of_layers)\n",
        "    parameters=initialize_parameters(L_sizes)\n",
        "    \n",
        "    print_once=True\n",
        "    for i in range(epochs):\n",
        "      # applying forward propagation\n",
        "        cache=forward_propagation(X, parameters,Tanh)\n",
        "      # computing Error/Cost\n",
        "        cost=Error(cache['A'][-1].T,y)\n",
        "      # Computing gradients\n",
        "        grads=backward_propagation(parameters,cache,X,y,print_once,Tanh)\n",
        "        print_once=False\n",
        "      # Updating the parameters\n",
        "        parameters=update_parameters(parameters,grads,learning_rate=LR)\n",
        "        \n",
        "        if i % 50 == 0:\n",
        "            print (\"Cost after iteration %i: %f\" %(i, cost))\n",
        "\n",
        "    return parameters"
      ],
      "metadata": {
        "id": "NahhQdtvUs2a"
      },
      "execution_count": 22,
      "outputs": []
    },
    {
      "cell_type": "markdown",
      "metadata": {
        "id": "NI-lyVosGeBJ"
      },
      "source": [
        "# Test_model Function"
      ]
    },
    {
      "cell_type": "code",
      "execution_count": 23,
      "metadata": {
        "id": "hcGYqrTRGit5"
      },
      "outputs": [],
      "source": [
        "# function to test on each model\n",
        "def test_model(parameters,X_test,y_test):\n",
        "    y_pred=np.zeros((X_test.shape[0],y_test.shape[1]))\n",
        "    # calling forward propagation to make predictions\n",
        "    cache=forward_propagation(X_test,parameters)\n",
        "    # using softmax on y_pred\n",
        "    y_pred=softmax(cache['A'][-1].T)\n",
        "    return Accuracy(y_pred,y_test)"
      ]
    },
    {
      "cell_type": "markdown",
      "source": [
        "# 1- Build NN with only 2 layers => 1 hidden layer and 1 output layer"
      ],
      "metadata": {
        "id": "uxqd3Nf3mANg"
      }
    },
    {
      "cell_type": "code",
      "source": [
        "parameters=NN(X_train, y_train,2,[20,10],200,4.5)"
      ],
      "metadata": {
        "colab": {
          "base_uri": "https://localhost:8080/"
        },
        "id": "aniJdT_CLnxG",
        "outputId": "156d7e3e-21f1-497e-b5e9-ec5e0b83f4a5"
      },
      "execution_count": 24,
      "outputs": [
        {
          "output_type": "stream",
          "name": "stdout",
          "text": [
            "L ['layer 0', 'layer 1', 'layer 2']\n",
            "W [(20, 784), (10, 20)]\n",
            "b [(20, 1), (10, 1)]\n",
            "L ['layer 0', 'layer 1', 'layer 2']\n",
            "dW [(10, 20), (20, 784)]\n",
            "db [(10, 1), (20, 1)]\n",
            "Cost after iteration 0: 1.668998\n",
            "Cost after iteration 50: 0.198551\n",
            "Cost after iteration 100: 0.150770\n",
            "Cost after iteration 150: 0.127873\n"
          ]
        }
      ]
    },
    {
      "cell_type": "code",
      "source": [
        "print(test_model(parameters,X_test,y_test))"
      ],
      "metadata": {
        "colab": {
          "base_uri": "https://localhost:8080/"
        },
        "id": "DNXdS-MpWBEZ",
        "outputId": "41204998-82ae-42f1-ac0f-11e701ec8d18"
      },
      "execution_count": 25,
      "outputs": [
        {
          "output_type": "stream",
          "name": "stdout",
          "text": [
            "85.8\n"
          ]
        }
      ]
    },
    {
      "cell_type": "markdown",
      "source": [
        "## 2- Build NN with 3 layers=> 2 hidden layers Where no. of neurons in first layer < no. of neurons in second layer and 1 output layer"
      ],
      "metadata": {
        "id": "ZRuE6T3-mGuV"
      }
    },
    {
      "cell_type": "code",
      "source": [
        "parameters=NN(X_train, y_train,3,[20,40,10],200,4.5)"
      ],
      "metadata": {
        "colab": {
          "base_uri": "https://localhost:8080/"
        },
        "id": "IpvIBmllmJnh",
        "outputId": "66694379-d89e-4c95-b5ec-b8aa487e235a"
      },
      "execution_count": 27,
      "outputs": [
        {
          "output_type": "stream",
          "name": "stdout",
          "text": [
            "L ['layer 0', 'layer 1', 'layer 2', 'layer 3']\n",
            "W [(20, 784), (40, 20), (10, 40)]\n",
            "b [(20, 1), (40, 1), (10, 1)]\n",
            "L ['layer 0', 'layer 1', 'layer 2', 'layer 3']\n",
            "dW [(10, 40), (40, 20), (20, 784)]\n",
            "db [(10, 1), (40, 1), (20, 1)]\n",
            "Cost after iteration 0: 2.795803\n",
            "Cost after iteration 50: 0.284033\n",
            "Cost after iteration 100: 0.166087\n",
            "Cost after iteration 150: 0.128613\n"
          ]
        }
      ]
    },
    {
      "cell_type": "code",
      "source": [
        "print(test_model(parameters,X_test,y_test))"
      ],
      "metadata": {
        "id": "IktSHnePm630",
        "colab": {
          "base_uri": "https://localhost:8080/"
        },
        "outputId": "0d1e12ef-c0f8-4eeb-ac26-e6baf141f1dc"
      },
      "execution_count": 28,
      "outputs": [
        {
          "output_type": "stream",
          "name": "stdout",
          "text": [
            "84.8\n"
          ]
        }
      ]
    },
    {
      "cell_type": "markdown",
      "source": [
        "## 3- Build NN with 3 layers=> 2 hidden layers Where no. of neurons in first layer > no. of neurons in second layer"
      ],
      "metadata": {
        "id": "M-jweFKMm8tg"
      }
    },
    {
      "cell_type": "code",
      "source": [
        "parameters=NN(X_train, y_train,3,[30,15,10],200,4.5)"
      ],
      "metadata": {
        "id": "Hwa_10kinL0j",
        "colab": {
          "base_uri": "https://localhost:8080/"
        },
        "outputId": "520a8dfb-a1dd-4696-8c03-565154c0ccfa"
      },
      "execution_count": 29,
      "outputs": [
        {
          "output_type": "stream",
          "name": "stdout",
          "text": [
            "L ['layer 0', 'layer 1', 'layer 2', 'layer 3']\n",
            "W [(30, 784), (15, 30), (10, 15)]\n",
            "b [(30, 1), (15, 1), (10, 1)]\n",
            "L ['layer 0', 'layer 1', 'layer 2', 'layer 3']\n",
            "dW [(10, 15), (15, 30), (30, 784)]\n",
            "db [(10, 1), (15, 1), (30, 1)]\n",
            "Cost after iteration 0: 1.494489\n",
            "Cost after iteration 50: 0.271608\n",
            "Cost after iteration 100: 0.194203\n",
            "Cost after iteration 150: 0.151534\n"
          ]
        }
      ]
    },
    {
      "cell_type": "code",
      "source": [
        "print(test_model(parameters,X_test,y_test))"
      ],
      "metadata": {
        "id": "ou4eFZm6nZkq",
        "colab": {
          "base_uri": "https://localhost:8080/"
        },
        "outputId": "ed5eeb43-d0cb-4d41-cf2a-5322f9d499e8"
      },
      "execution_count": 30,
      "outputs": [
        {
          "output_type": "stream",
          "name": "stdout",
          "text": [
            "82.4\n"
          ]
        }
      ]
    },
    {
      "cell_type": "markdown",
      "source": [
        "# 1- Build NN_Tanh with only 2 layers => 1 hidden layer and 1 output layer"
      ],
      "metadata": {
        "id": "Vw8PkWjI1fP7"
      }
    },
    {
      "cell_type": "code",
      "source": [
        "parameters=NN(X_train, y_train,2,[20,10],200,8.5,Tanh=True)"
      ],
      "metadata": {
        "id": "CkoAyNVp1lI4",
        "colab": {
          "base_uri": "https://localhost:8080/"
        },
        "outputId": "68da04d4-796c-46c7-f19e-e1d81016aaa3"
      },
      "execution_count": 31,
      "outputs": [
        {
          "output_type": "stream",
          "name": "stdout",
          "text": [
            "L ['layer 0', 'layer 1', 'layer 2']\n",
            "W [(20, 784), (10, 20)]\n",
            "b [(20, 1), (10, 1)]\n",
            "L ['layer 0', 'layer 1', 'layer 2']\n",
            "dW [(10, 20), (20, 784)]\n",
            "db [(10, 1), (20, 1)]\n",
            "Cost after iteration 0: 2.088557\n",
            "Cost after iteration 50: 0.151824\n",
            "Cost after iteration 100: 0.119393\n",
            "Cost after iteration 150: 0.105601\n"
          ]
        }
      ]
    },
    {
      "cell_type": "code",
      "source": [
        "print(test_model(parameters,X_test,y_test))"
      ],
      "metadata": {
        "id": "iXNqHiZt1r74",
        "colab": {
          "base_uri": "https://localhost:8080/"
        },
        "outputId": "5c6573c2-74d9-497c-e2f5-8789e2958958"
      },
      "execution_count": 32,
      "outputs": [
        {
          "output_type": "stream",
          "name": "stdout",
          "text": [
            "71.6\n"
          ]
        }
      ]
    },
    {
      "cell_type": "markdown",
      "source": [
        "## 2- Build NN_Tanh with 3 layers=> 2 hidden layers Where no. of neurons in first layer < no. of neurons in second layer and 1 output layer"
      ],
      "metadata": {
        "id": "9JZASlpC1zON"
      }
    },
    {
      "cell_type": "code",
      "source": [
        "parameters=NN(X_train, y_train,3,[20,40,10],200,8.5,Tanh=True)"
      ],
      "metadata": {
        "id": "IswPUrn912xX",
        "colab": {
          "base_uri": "https://localhost:8080/"
        },
        "outputId": "dd7d1bd5-b02b-4820-fc1a-e0aedb8d084b"
      },
      "execution_count": 33,
      "outputs": [
        {
          "output_type": "stream",
          "name": "stdout",
          "text": [
            "L ['layer 0', 'layer 1', 'layer 2', 'layer 3']\n",
            "W [(20, 784), (40, 20), (10, 40)]\n",
            "b [(20, 1), (40, 1), (10, 1)]\n",
            "L ['layer 0', 'layer 1', 'layer 2', 'layer 3']\n",
            "dW [(10, 40), (40, 20), (20, 784)]\n",
            "db [(10, 1), (40, 1), (20, 1)]\n",
            "Cost after iteration 0: 2.117962\n",
            "Cost after iteration 50: 0.162378\n",
            "Cost after iteration 100: 0.120514\n",
            "Cost after iteration 150: 0.105574\n"
          ]
        }
      ]
    },
    {
      "cell_type": "code",
      "source": [
        "print(test_model(parameters,X_test,y_test))"
      ],
      "metadata": {
        "id": "KshrJbK617X0",
        "colab": {
          "base_uri": "https://localhost:8080/"
        },
        "outputId": "0026d773-fd02-4e20-83b4-ccf7431cff62"
      },
      "execution_count": 34,
      "outputs": [
        {
          "output_type": "stream",
          "name": "stdout",
          "text": [
            "41.1\n"
          ]
        }
      ]
    },
    {
      "cell_type": "markdown",
      "source": [
        "## 3- Build NN_Tanh with 3 layers=> 2 hidden layers Where no. of neurons in first layer > no. of neurons in second layer"
      ],
      "metadata": {
        "id": "QaRRE3U71-3k"
      }
    },
    {
      "cell_type": "code",
      "source": [
        "parameters=NN(X_train, y_train,3,[30,15,10],200,8.5,Tanh=True)"
      ],
      "metadata": {
        "id": "Oq0dSTPD2LSL",
        "colab": {
          "base_uri": "https://localhost:8080/"
        },
        "outputId": "3faedaef-28da-4220-ca82-9bb02488f093"
      },
      "execution_count": 35,
      "outputs": [
        {
          "output_type": "stream",
          "name": "stdout",
          "text": [
            "L ['layer 0', 'layer 1', 'layer 2', 'layer 3']\n",
            "W [(30, 784), (15, 30), (10, 15)]\n",
            "b [(30, 1), (15, 1), (10, 1)]\n",
            "L ['layer 0', 'layer 1', 'layer 2', 'layer 3']\n",
            "dW [(10, 15), (15, 30), (30, 784)]\n",
            "db [(10, 1), (15, 1), (30, 1)]\n",
            "Cost after iteration 0: 2.078380\n",
            "Cost after iteration 50: 0.171115\n",
            "Cost after iteration 100: 0.127410\n",
            "Cost after iteration 150: 0.111718\n"
          ]
        }
      ]
    },
    {
      "cell_type": "code",
      "source": [
        "print(test_model(parameters,X_test,y_test))"
      ],
      "metadata": {
        "id": "1bESturh2DfH",
        "colab": {
          "base_uri": "https://localhost:8080/"
        },
        "outputId": "074b54f9-725b-4b88-9ae5-87c03e700a65"
      },
      "execution_count": 36,
      "outputs": [
        {
          "output_type": "stream",
          "name": "stdout",
          "text": [
            "40.0\n"
          ]
        }
      ]
    }
  ],
  "metadata": {
    "accelerator": "GPU",
    "colab": {
      "provenance": [],
      "include_colab_link": true
    },
    "gpuClass": "standard",
    "kernelspec": {
      "display_name": "Python 3",
      "name": "python3"
    },
    "language_info": {
      "name": "python"
    }
  },
  "nbformat": 4,
  "nbformat_minor": 0
}